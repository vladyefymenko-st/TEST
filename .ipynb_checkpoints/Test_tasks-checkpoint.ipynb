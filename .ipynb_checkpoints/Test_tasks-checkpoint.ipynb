{
 "cells": [
  {
   "cell_type": "code",
   "execution_count": 55,
   "metadata": {},
   "outputs": [],
   "source": [
    "import pandas as pd\n",
    "import numpy as np\n",
    "import seaborn as sns\n",
    "import matplotlib.pyplot as plt"
   ]
  },
  {
   "cell_type": "code",
   "execution_count": 36,
   "metadata": {},
   "outputs": [],
   "source": [
    "data = pd.read_excel('Test MS Excel_MA.xlsx', sheet_name='task1', header=1, usecols=6)\\\n",
    "    .rename(\n",
    "        columns={\n",
    "            'Дата': 'date_created', \n",
    "            'Сайт': 'site', \n",
    "            'Страна': 'country', \n",
    "            'Уникальных посетителей': 'uniq_users', \n",
    "            'Регистраций': 'regs', \n",
    "            'Конверсия': 'conv',\n",
    "            'ID Промокод': 'code_id'\n",
    "        }\n",
    "    )"
   ]
  },
  {
   "cell_type": "code",
   "execution_count": 37,
   "metadata": {},
   "outputs": [
    {
     "data": {
      "text/html": [
       "<div>\n",
       "<style scoped>\n",
       "    .dataframe tbody tr th:only-of-type {\n",
       "        vertical-align: middle;\n",
       "    }\n",
       "\n",
       "    .dataframe tbody tr th {\n",
       "        vertical-align: top;\n",
       "    }\n",
       "\n",
       "    .dataframe thead th {\n",
       "        text-align: right;\n",
       "    }\n",
       "</style>\n",
       "<table border=\"1\" class=\"dataframe\">\n",
       "  <thead>\n",
       "    <tr style=\"text-align: right;\">\n",
       "      <th></th>\n",
       "      <th>date_created</th>\n",
       "      <th>site</th>\n",
       "      <th>country</th>\n",
       "      <th>uniq_users</th>\n",
       "      <th>regs</th>\n",
       "      <th>conv</th>\n",
       "      <th>code_id</th>\n",
       "    </tr>\n",
       "  </thead>\n",
       "  <tbody>\n",
       "    <tr>\n",
       "      <td>0</td>\n",
       "      <td>2019-08-01</td>\n",
       "      <td>SITE_2</td>\n",
       "      <td>Albania (AL)</td>\n",
       "      <td>76</td>\n",
       "      <td>5</td>\n",
       "      <td>NaN</td>\n",
       "      <td>22</td>\n",
       "    </tr>\n",
       "    <tr>\n",
       "      <td>1</td>\n",
       "      <td>2019-08-01</td>\n",
       "      <td>SITE_1</td>\n",
       "      <td>Algeria (DZ)</td>\n",
       "      <td>213</td>\n",
       "      <td>66</td>\n",
       "      <td>NaN</td>\n",
       "      <td>40</td>\n",
       "    </tr>\n",
       "    <tr>\n",
       "      <td>2</td>\n",
       "      <td>2019-08-01</td>\n",
       "      <td>SITE_3</td>\n",
       "      <td>Angola (AO)</td>\n",
       "      <td>45</td>\n",
       "      <td>10</td>\n",
       "      <td>NaN</td>\n",
       "      <td>15</td>\n",
       "    </tr>\n",
       "    <tr>\n",
       "      <td>3</td>\n",
       "      <td>2019-08-01</td>\n",
       "      <td>SITE_2</td>\n",
       "      <td>Argentina (AR)</td>\n",
       "      <td>2191</td>\n",
       "      <td>103</td>\n",
       "      <td>NaN</td>\n",
       "      <td>22</td>\n",
       "    </tr>\n",
       "    <tr>\n",
       "      <td>4</td>\n",
       "      <td>2019-08-01</td>\n",
       "      <td>SITE_3</td>\n",
       "      <td>Austria (AT)</td>\n",
       "      <td>2467</td>\n",
       "      <td>512</td>\n",
       "      <td>NaN</td>\n",
       "      <td>40</td>\n",
       "    </tr>\n",
       "  </tbody>\n",
       "</table>\n",
       "</div>"
      ],
      "text/plain": [
       "  date_created    site         country  uniq_users  regs  conv  code_id\n",
       "0   2019-08-01  SITE_2    Albania (AL)          76     5   NaN       22\n",
       "1   2019-08-01  SITE_1    Algeria (DZ)         213    66   NaN       40\n",
       "2   2019-08-01  SITE_3     Angola (AO)          45    10   NaN       15\n",
       "3   2019-08-01  SITE_2  Argentina (AR)        2191   103   NaN       22\n",
       "4   2019-08-01  SITE_3    Austria (AT)        2467   512   NaN       40"
      ]
     },
     "execution_count": 37,
     "metadata": {},
     "output_type": "execute_result"
    }
   ],
   "source": [
    "data.head()"
   ]
  },
  {
   "cell_type": "code",
   "execution_count": 15,
   "metadata": {},
   "outputs": [],
   "source": [
    "table_2 = pd.read_clipboard()"
   ]
  },
  {
   "cell_type": "code",
   "execution_count": 17,
   "metadata": {},
   "outputs": [],
   "source": [
    "table_2.rename(\n",
    "    columns={'ID Промокод': 'code_id', 'Название промокода': 'code_name'},\n",
    "    inplace=True\n",
    ")"
   ]
  },
  {
   "cell_type": "code",
   "execution_count": 18,
   "metadata": {},
   "outputs": [],
   "source": [
    "table_3 = pd.DataFrame(\n",
    "    {'conv': [0.3, 0.6, 1], 'status': ['C', 'B', 'A']}\n",
    ")"
   ]
  },
  {
   "cell_type": "code",
   "execution_count": 19,
   "metadata": {},
   "outputs": [
    {
     "data": {
      "text/html": [
       "<div>\n",
       "<style scoped>\n",
       "    .dataframe tbody tr th:only-of-type {\n",
       "        vertical-align: middle;\n",
       "    }\n",
       "\n",
       "    .dataframe tbody tr th {\n",
       "        vertical-align: top;\n",
       "    }\n",
       "\n",
       "    .dataframe thead th {\n",
       "        text-align: right;\n",
       "    }\n",
       "</style>\n",
       "<table border=\"1\" class=\"dataframe\">\n",
       "  <thead>\n",
       "    <tr style=\"text-align: right;\">\n",
       "      <th></th>\n",
       "      <th>conv</th>\n",
       "      <th>status</th>\n",
       "    </tr>\n",
       "  </thead>\n",
       "  <tbody>\n",
       "    <tr>\n",
       "      <td>0</td>\n",
       "      <td>0.3</td>\n",
       "      <td>C</td>\n",
       "    </tr>\n",
       "    <tr>\n",
       "      <td>1</td>\n",
       "      <td>0.6</td>\n",
       "      <td>B</td>\n",
       "    </tr>\n",
       "    <tr>\n",
       "      <td>2</td>\n",
       "      <td>1.0</td>\n",
       "      <td>A</td>\n",
       "    </tr>\n",
       "  </tbody>\n",
       "</table>\n",
       "</div>"
      ],
      "text/plain": [
       "   conv status\n",
       "0   0.3      C\n",
       "1   0.6      B\n",
       "2   1.0      A"
      ]
     },
     "execution_count": 19,
     "metadata": {},
     "output_type": "execute_result"
    }
   ],
   "source": [
    "table_3"
   ]
  },
  {
   "cell_type": "code",
   "execution_count": 20,
   "metadata": {},
   "outputs": [
    {
     "data": {
      "text/html": [
       "<div>\n",
       "<style scoped>\n",
       "    .dataframe tbody tr th:only-of-type {\n",
       "        vertical-align: middle;\n",
       "    }\n",
       "\n",
       "    .dataframe tbody tr th {\n",
       "        vertical-align: top;\n",
       "    }\n",
       "\n",
       "    .dataframe thead th {\n",
       "        text-align: right;\n",
       "    }\n",
       "</style>\n",
       "<table border=\"1\" class=\"dataframe\">\n",
       "  <thead>\n",
       "    <tr style=\"text-align: right;\">\n",
       "      <th></th>\n",
       "      <th>date_created</th>\n",
       "      <th>site</th>\n",
       "      <th>country</th>\n",
       "      <th>uniq_users</th>\n",
       "      <th>regs</th>\n",
       "      <th>conv</th>\n",
       "      <th>code_id</th>\n",
       "      <th>code_name</th>\n",
       "      <th>status</th>\n",
       "    </tr>\n",
       "  </thead>\n",
       "  <tbody>\n",
       "    <tr>\n",
       "      <td>0</td>\n",
       "      <td>2019-08-01</td>\n",
       "      <td>SITE_2</td>\n",
       "      <td>Albania (AL)</td>\n",
       "      <td>76</td>\n",
       "      <td>5</td>\n",
       "      <td>NaN</td>\n",
       "      <td>22</td>\n",
       "      <td>NaN</td>\n",
       "      <td>NaN</td>\n",
       "    </tr>\n",
       "    <tr>\n",
       "      <td>1</td>\n",
       "      <td>2019-08-01</td>\n",
       "      <td>SITE_1</td>\n",
       "      <td>Algeria (DZ)</td>\n",
       "      <td>213</td>\n",
       "      <td>66</td>\n",
       "      <td>NaN</td>\n",
       "      <td>40</td>\n",
       "      <td>NaN</td>\n",
       "      <td>NaN</td>\n",
       "    </tr>\n",
       "    <tr>\n",
       "      <td>2</td>\n",
       "      <td>2019-08-01</td>\n",
       "      <td>SITE_3</td>\n",
       "      <td>Angola (AO)</td>\n",
       "      <td>45</td>\n",
       "      <td>10</td>\n",
       "      <td>NaN</td>\n",
       "      <td>15</td>\n",
       "      <td>NaN</td>\n",
       "      <td>NaN</td>\n",
       "    </tr>\n",
       "    <tr>\n",
       "      <td>3</td>\n",
       "      <td>2019-08-01</td>\n",
       "      <td>SITE_2</td>\n",
       "      <td>Argentina (AR)</td>\n",
       "      <td>2191</td>\n",
       "      <td>103</td>\n",
       "      <td>NaN</td>\n",
       "      <td>22</td>\n",
       "      <td>NaN</td>\n",
       "      <td>NaN</td>\n",
       "    </tr>\n",
       "    <tr>\n",
       "      <td>4</td>\n",
       "      <td>2019-08-01</td>\n",
       "      <td>SITE_3</td>\n",
       "      <td>Austria (AT)</td>\n",
       "      <td>2467</td>\n",
       "      <td>512</td>\n",
       "      <td>NaN</td>\n",
       "      <td>40</td>\n",
       "      <td>NaN</td>\n",
       "      <td>NaN</td>\n",
       "    </tr>\n",
       "  </tbody>\n",
       "</table>\n",
       "</div>"
      ],
      "text/plain": [
       "  date_created    site         country  uniq_users  regs  conv  code_id  \\\n",
       "0   2019-08-01  SITE_2    Albania (AL)          76     5   NaN       22   \n",
       "1   2019-08-01  SITE_1    Algeria (DZ)         213    66   NaN       40   \n",
       "2   2019-08-01  SITE_3     Angola (AO)          45    10   NaN       15   \n",
       "3   2019-08-01  SITE_2  Argentina (AR)        2191   103   NaN       22   \n",
       "4   2019-08-01  SITE_3    Austria (AT)        2467   512   NaN       40   \n",
       "\n",
       "   code_name  status  \n",
       "0        NaN     NaN  \n",
       "1        NaN     NaN  \n",
       "2        NaN     NaN  \n",
       "3        NaN     NaN  \n",
       "4        NaN     NaN  "
      ]
     },
     "execution_count": 20,
     "metadata": {},
     "output_type": "execute_result"
    }
   ],
   "source": [
    "data.head()"
   ]
  },
  {
   "cell_type": "code",
   "execution_count": 21,
   "metadata": {},
   "outputs": [
    {
     "data": {
      "text/plain": [
       "(8353, 9)"
      ]
     },
     "execution_count": 21,
     "metadata": {},
     "output_type": "execute_result"
    }
   ],
   "source": [
    "data.shape"
   ]
  },
  {
   "cell_type": "code",
   "execution_count": 38,
   "metadata": {},
   "outputs": [
    {
     "data": {
      "text/plain": [
       "(8353, 7)"
      ]
     },
     "execution_count": 38,
     "metadata": {},
     "output_type": "execute_result"
    }
   ],
   "source": [
    "data.drop_duplicates().shape"
   ]
  },
  {
   "cell_type": "code",
   "execution_count": 39,
   "metadata": {},
   "outputs": [],
   "source": [
    "data['conv'] = data['regs']/data['uniq_users']"
   ]
  },
  {
   "cell_type": "code",
   "execution_count": 40,
   "metadata": {},
   "outputs": [
    {
     "data": {
      "text/html": [
       "<div>\n",
       "<style scoped>\n",
       "    .dataframe tbody tr th:only-of-type {\n",
       "        vertical-align: middle;\n",
       "    }\n",
       "\n",
       "    .dataframe tbody tr th {\n",
       "        vertical-align: top;\n",
       "    }\n",
       "\n",
       "    .dataframe thead th {\n",
       "        text-align: right;\n",
       "    }\n",
       "</style>\n",
       "<table border=\"1\" class=\"dataframe\">\n",
       "  <thead>\n",
       "    <tr style=\"text-align: right;\">\n",
       "      <th></th>\n",
       "      <th>date_created</th>\n",
       "      <th>site</th>\n",
       "      <th>country</th>\n",
       "      <th>uniq_users</th>\n",
       "      <th>regs</th>\n",
       "      <th>conv</th>\n",
       "      <th>code_id</th>\n",
       "    </tr>\n",
       "  </thead>\n",
       "  <tbody>\n",
       "    <tr>\n",
       "      <td>0</td>\n",
       "      <td>2019-08-01</td>\n",
       "      <td>SITE_2</td>\n",
       "      <td>Albania (AL)</td>\n",
       "      <td>76</td>\n",
       "      <td>5</td>\n",
       "      <td>0.065789</td>\n",
       "      <td>22</td>\n",
       "    </tr>\n",
       "    <tr>\n",
       "      <td>1</td>\n",
       "      <td>2019-08-01</td>\n",
       "      <td>SITE_1</td>\n",
       "      <td>Algeria (DZ)</td>\n",
       "      <td>213</td>\n",
       "      <td>66</td>\n",
       "      <td>0.309859</td>\n",
       "      <td>40</td>\n",
       "    </tr>\n",
       "    <tr>\n",
       "      <td>2</td>\n",
       "      <td>2019-08-01</td>\n",
       "      <td>SITE_3</td>\n",
       "      <td>Angola (AO)</td>\n",
       "      <td>45</td>\n",
       "      <td>10</td>\n",
       "      <td>0.222222</td>\n",
       "      <td>15</td>\n",
       "    </tr>\n",
       "    <tr>\n",
       "      <td>3</td>\n",
       "      <td>2019-08-01</td>\n",
       "      <td>SITE_2</td>\n",
       "      <td>Argentina (AR)</td>\n",
       "      <td>2191</td>\n",
       "      <td>103</td>\n",
       "      <td>0.047010</td>\n",
       "      <td>22</td>\n",
       "    </tr>\n",
       "    <tr>\n",
       "      <td>4</td>\n",
       "      <td>2019-08-01</td>\n",
       "      <td>SITE_3</td>\n",
       "      <td>Austria (AT)</td>\n",
       "      <td>2467</td>\n",
       "      <td>512</td>\n",
       "      <td>0.207540</td>\n",
       "      <td>40</td>\n",
       "    </tr>\n",
       "  </tbody>\n",
       "</table>\n",
       "</div>"
      ],
      "text/plain": [
       "  date_created    site         country  uniq_users  regs      conv  code_id\n",
       "0   2019-08-01  SITE_2    Albania (AL)          76     5  0.065789       22\n",
       "1   2019-08-01  SITE_1    Algeria (DZ)         213    66  0.309859       40\n",
       "2   2019-08-01  SITE_3     Angola (AO)          45    10  0.222222       15\n",
       "3   2019-08-01  SITE_2  Argentina (AR)        2191   103  0.047010       22\n",
       "4   2019-08-01  SITE_3    Austria (AT)        2467   512  0.207540       40"
      ]
     },
     "execution_count": 40,
     "metadata": {},
     "output_type": "execute_result"
    }
   ],
   "source": [
    "data.head()"
   ]
  },
  {
   "cell_type": "code",
   "execution_count": 41,
   "metadata": {},
   "outputs": [],
   "source": [
    "data['status'] = pd.Series()\n",
    "data.loc[data['conv'] < 0.3, 'status'] = 'C'\n",
    "data.loc[(data['conv'] <= 0.6) & (data['conv'] >= 0.3), 'status'] = 'B'\n",
    "data['status'] = data['status'].fillna('A')"
   ]
  },
  {
   "cell_type": "code",
   "execution_count": 46,
   "metadata": {},
   "outputs": [
    {
     "data": {
      "text/html": [
       "<div>\n",
       "<style scoped>\n",
       "    .dataframe tbody tr th:only-of-type {\n",
       "        vertical-align: middle;\n",
       "    }\n",
       "\n",
       "    .dataframe tbody tr th {\n",
       "        vertical-align: top;\n",
       "    }\n",
       "\n",
       "    .dataframe thead th {\n",
       "        text-align: right;\n",
       "    }\n",
       "</style>\n",
       "<table border=\"1\" class=\"dataframe\">\n",
       "  <thead>\n",
       "    <tr style=\"text-align: right;\">\n",
       "      <th></th>\n",
       "      <th>date_created</th>\n",
       "      <th>site</th>\n",
       "      <th>country</th>\n",
       "      <th>uniq_users</th>\n",
       "      <th>regs</th>\n",
       "      <th>conv</th>\n",
       "      <th>code_id</th>\n",
       "      <th>status</th>\n",
       "      <th>code_name</th>\n",
       "    </tr>\n",
       "  </thead>\n",
       "  <tbody>\n",
       "    <tr>\n",
       "      <td>0</td>\n",
       "      <td>2019-08-01</td>\n",
       "      <td>SITE_2</td>\n",
       "      <td>Albania (AL)</td>\n",
       "      <td>76</td>\n",
       "      <td>5</td>\n",
       "      <td>0.065789</td>\n",
       "      <td>22</td>\n",
       "      <td>C</td>\n",
       "      <td>holiday</td>\n",
       "    </tr>\n",
       "    <tr>\n",
       "      <td>1</td>\n",
       "      <td>2019-08-01</td>\n",
       "      <td>SITE_1</td>\n",
       "      <td>Algeria (DZ)</td>\n",
       "      <td>213</td>\n",
       "      <td>66</td>\n",
       "      <td>0.309859</td>\n",
       "      <td>40</td>\n",
       "      <td>B</td>\n",
       "      <td>party</td>\n",
       "    </tr>\n",
       "    <tr>\n",
       "      <td>2</td>\n",
       "      <td>2019-08-01</td>\n",
       "      <td>SITE_3</td>\n",
       "      <td>Angola (AO)</td>\n",
       "      <td>45</td>\n",
       "      <td>10</td>\n",
       "      <td>0.222222</td>\n",
       "      <td>15</td>\n",
       "      <td>C</td>\n",
       "      <td>weekend</td>\n",
       "    </tr>\n",
       "    <tr>\n",
       "      <td>3</td>\n",
       "      <td>2019-08-01</td>\n",
       "      <td>SITE_2</td>\n",
       "      <td>Argentina (AR)</td>\n",
       "      <td>2191</td>\n",
       "      <td>103</td>\n",
       "      <td>0.047010</td>\n",
       "      <td>22</td>\n",
       "      <td>C</td>\n",
       "      <td>holiday</td>\n",
       "    </tr>\n",
       "    <tr>\n",
       "      <td>4</td>\n",
       "      <td>2019-08-01</td>\n",
       "      <td>SITE_3</td>\n",
       "      <td>Austria (AT)</td>\n",
       "      <td>2467</td>\n",
       "      <td>512</td>\n",
       "      <td>0.207540</td>\n",
       "      <td>40</td>\n",
       "      <td>C</td>\n",
       "      <td>party</td>\n",
       "    </tr>\n",
       "  </tbody>\n",
       "</table>\n",
       "</div>"
      ],
      "text/plain": [
       "  date_created    site         country  uniq_users  regs      conv  code_id  \\\n",
       "0   2019-08-01  SITE_2    Albania (AL)          76     5  0.065789       22   \n",
       "1   2019-08-01  SITE_1    Algeria (DZ)         213    66  0.309859       40   \n",
       "2   2019-08-01  SITE_3     Angola (AO)          45    10  0.222222       15   \n",
       "3   2019-08-01  SITE_2  Argentina (AR)        2191   103  0.047010       22   \n",
       "4   2019-08-01  SITE_3    Austria (AT)        2467   512  0.207540       40   \n",
       "\n",
       "  status code_name  \n",
       "0      C   holiday  \n",
       "1      B     party  \n",
       "2      C   weekend  \n",
       "3      C   holiday  \n",
       "4      C     party  "
      ]
     },
     "execution_count": 46,
     "metadata": {},
     "output_type": "execute_result"
    }
   ],
   "source": [
    "data.head()"
   ]
  },
  {
   "cell_type": "code",
   "execution_count": 44,
   "metadata": {},
   "outputs": [],
   "source": [
    "data = pd.merge(data, table_2, how='left', on='code_id')"
   ]
  },
  {
   "cell_type": "code",
   "execution_count": 45,
   "metadata": {},
   "outputs": [
    {
     "data": {
      "text/html": [
       "<div>\n",
       "<style scoped>\n",
       "    .dataframe tbody tr th:only-of-type {\n",
       "        vertical-align: middle;\n",
       "    }\n",
       "\n",
       "    .dataframe tbody tr th {\n",
       "        vertical-align: top;\n",
       "    }\n",
       "\n",
       "    .dataframe thead th {\n",
       "        text-align: right;\n",
       "    }\n",
       "</style>\n",
       "<table border=\"1\" class=\"dataframe\">\n",
       "  <thead>\n",
       "    <tr style=\"text-align: right;\">\n",
       "      <th></th>\n",
       "      <th>date_created</th>\n",
       "      <th>site</th>\n",
       "      <th>country</th>\n",
       "      <th>uniq_users</th>\n",
       "      <th>regs</th>\n",
       "      <th>conv</th>\n",
       "      <th>code_id</th>\n",
       "      <th>status</th>\n",
       "      <th>code_name</th>\n",
       "    </tr>\n",
       "  </thead>\n",
       "  <tbody>\n",
       "  </tbody>\n",
       "</table>\n",
       "</div>"
      ],
      "text/plain": [
       "Empty DataFrame\n",
       "Columns: [date_created, site, country, uniq_users, regs, conv, code_id, status, code_name]\n",
       "Index: []"
      ]
     },
     "execution_count": 45,
     "metadata": {},
     "output_type": "execute_result"
    }
   ],
   "source": [
    "data[data['code_name'].isna()]"
   ]
  },
  {
   "cell_type": "code",
   "execution_count": 71,
   "metadata": {},
   "outputs": [],
   "source": [
    "by_site = data.groupby(['site', 'code_name'], as_index=False)\\\n",
    "    .agg({'regs': 'sum', 'uniq_users': 'sum'})\\\n",
    "    .pivot(index='site', columns='code_name', values=['uniq_users', 'regs'])"
   ]
  },
  {
   "cell_type": "code",
   "execution_count": 83,
   "metadata": {},
   "outputs": [],
   "source": [
    "for_graph = by_site.stack().reset_index()"
   ]
  },
  {
   "cell_type": "code",
   "execution_count": 87,
   "metadata": {},
   "outputs": [
    {
     "data": {
      "text/html": [
       "<div>\n",
       "<style scoped>\n",
       "    .dataframe tbody tr th:only-of-type {\n",
       "        vertical-align: middle;\n",
       "    }\n",
       "\n",
       "    .dataframe tbody tr th {\n",
       "        vertical-align: top;\n",
       "    }\n",
       "\n",
       "    .dataframe thead th {\n",
       "        text-align: right;\n",
       "    }\n",
       "</style>\n",
       "<table border=\"1\" class=\"dataframe\">\n",
       "  <thead>\n",
       "    <tr style=\"text-align: right;\">\n",
       "      <th></th>\n",
       "      <th>site</th>\n",
       "      <th>code_name</th>\n",
       "      <th>uniq_users</th>\n",
       "      <th>regs</th>\n",
       "    </tr>\n",
       "  </thead>\n",
       "  <tbody>\n",
       "    <tr>\n",
       "      <td>0</td>\n",
       "      <td>SITE_1</td>\n",
       "      <td>holiday</td>\n",
       "      <td>532530</td>\n",
       "      <td>85685</td>\n",
       "    </tr>\n",
       "    <tr>\n",
       "      <td>1</td>\n",
       "      <td>SITE_1</td>\n",
       "      <td>party</td>\n",
       "      <td>284653</td>\n",
       "      <td>46799</td>\n",
       "    </tr>\n",
       "    <tr>\n",
       "      <td>2</td>\n",
       "      <td>SITE_1</td>\n",
       "      <td>weekend</td>\n",
       "      <td>94110</td>\n",
       "      <td>15913</td>\n",
       "    </tr>\n",
       "    <tr>\n",
       "      <td>3</td>\n",
       "      <td>SITE_2</td>\n",
       "      <td>holiday</td>\n",
       "      <td>871332</td>\n",
       "      <td>130847</td>\n",
       "    </tr>\n",
       "    <tr>\n",
       "      <td>4</td>\n",
       "      <td>SITE_2</td>\n",
       "      <td>party</td>\n",
       "      <td>400906</td>\n",
       "      <td>62826</td>\n",
       "    </tr>\n",
       "    <tr>\n",
       "      <td>5</td>\n",
       "      <td>SITE_2</td>\n",
       "      <td>weekend</td>\n",
       "      <td>155279</td>\n",
       "      <td>23275</td>\n",
       "    </tr>\n",
       "    <tr>\n",
       "      <td>6</td>\n",
       "      <td>SITE_3</td>\n",
       "      <td>holiday</td>\n",
       "      <td>675695</td>\n",
       "      <td>99109</td>\n",
       "    </tr>\n",
       "    <tr>\n",
       "      <td>7</td>\n",
       "      <td>SITE_3</td>\n",
       "      <td>party</td>\n",
       "      <td>392191</td>\n",
       "      <td>61436</td>\n",
       "    </tr>\n",
       "    <tr>\n",
       "      <td>8</td>\n",
       "      <td>SITE_3</td>\n",
       "      <td>weekend</td>\n",
       "      <td>108071</td>\n",
       "      <td>15823</td>\n",
       "    </tr>\n",
       "  </tbody>\n",
       "</table>\n",
       "</div>"
      ],
      "text/plain": [
       "     site code_name  uniq_users    regs\n",
       "0  SITE_1   holiday      532530   85685\n",
       "1  SITE_1     party      284653   46799\n",
       "2  SITE_1   weekend       94110   15913\n",
       "3  SITE_2   holiday      871332  130847\n",
       "4  SITE_2     party      400906   62826\n",
       "5  SITE_2   weekend      155279   23275\n",
       "6  SITE_3   holiday      675695   99109\n",
       "7  SITE_3     party      392191   61436\n",
       "8  SITE_3   weekend      108071   15823"
      ]
     },
     "execution_count": 87,
     "metadata": {},
     "output_type": "execute_result"
    }
   ],
   "source": [
    "for_graph"
   ]
  },
  {
   "cell_type": "code",
   "execution_count": 92,
   "metadata": {},
   "outputs": [],
   "source": [
    "%matplotlib inline"
   ]
  },
  {
   "cell_type": "code",
   "execution_count": 95,
   "metadata": {},
   "outputs": [
    {
     "name": "stdout",
     "output_type": "stream",
     "text": [
      "SITE_1\n"
     ]
    },
    {
     "data": {
      "image/png": "[encoded data removed]",
      "text/plain": [
       "<Figure size 432x288 with 1 Axes>"
      ]
     },
     "metadata": {},
     "output_type": "display_data"
    },
    {
     "name": "stdout",
     "output_type": "stream",
     "text": [
      "SITE_2\n"
     ]
    },
    {
     "data": {
      "image/png": "[encoded data removed]",
      "text/plain": [
       "<Figure size 432x288 with 1 Axes>"
      ]
     },
     "metadata": {},
     "output_type": "display_data"
    },
    {
     "name": "stdout",
     "output_type": "stream",
     "text": [
      "SITE_3\n"
     ]
    },
    {
     "data": {
      "image/png": "[encoded data removed]",
      "text/plain": [
       "<Figure size 432x288 with 1 Axes>"
      ]
     },
     "metadata": {},
     "output_type": "display_data"
    }
   ],
   "source": [
    "for site in for_graph['site'].unique():\n",
    "    print(site)\n",
    "    plt.pie(\n",
    "        for_graph[for_graph['site'] == site]['uniq_users'],\n",
    "        explode = (0.1, 0, 0),\n",
    "        labels=for_graph[for_graph['site'] == site]['code_name'],\n",
    "        autopct='%1.1f%%'\n",
    "    )\n",
    "    plt.show()"
   ]
  },
  {
   "cell_type": "code",
   "execution_count": 105,
   "metadata": {},
   "outputs": [],
   "source": [
    "top_countries = data[data['code_name'] == 'holiday']\\\n",
    "    .groupby('country', as_index=False)\\\n",
    "    ['uniq_users'].count()\\\n",
    "    .sort_values('uniq_users', ascending=False)\\\n",
    "    .reset_index(drop=True)\\\n",
    "    .loc[:9, :]"
   ]
  },
  {
   "cell_type": "code",
   "execution_count": 106,
   "metadata": {},
   "outputs": [
    {
     "data": {
      "text/html": [
       "<div>\n",
       "<style scoped>\n",
       "    .dataframe tbody tr th:only-of-type {\n",
       "        vertical-align: middle;\n",
       "    }\n",
       "\n",
       "    .dataframe tbody tr th {\n",
       "        vertical-align: top;\n",
       "    }\n",
       "\n",
       "    .dataframe thead th {\n",
       "        text-align: right;\n",
       "    }\n",
       "</style>\n",
       "<table border=\"1\" class=\"dataframe\">\n",
       "  <thead>\n",
       "    <tr style=\"text-align: right;\">\n",
       "      <th></th>\n",
       "      <th>country</th>\n",
       "      <th>uniq_users</th>\n",
       "    </tr>\n",
       "  </thead>\n",
       "  <tbody>\n",
       "    <tr>\n",
       "      <td>0</td>\n",
       "      <td>Czech Republic (CZ)</td>\n",
       "      <td>81</td>\n",
       "    </tr>\n",
       "    <tr>\n",
       "      <td>1</td>\n",
       "      <td>Moldova (MD)</td>\n",
       "      <td>81</td>\n",
       "    </tr>\n",
       "    <tr>\n",
       "      <td>2</td>\n",
       "      <td>Kyrgyzstan (KG)</td>\n",
       "      <td>72</td>\n",
       "    </tr>\n",
       "    <tr>\n",
       "      <td>3</td>\n",
       "      <td>Finland (FI)</td>\n",
       "      <td>72</td>\n",
       "    </tr>\n",
       "    <tr>\n",
       "      <td>4</td>\n",
       "      <td>Uzbekistan (UZ)</td>\n",
       "      <td>68</td>\n",
       "    </tr>\n",
       "    <tr>\n",
       "      <td>5</td>\n",
       "      <td>Netherlands (NL)</td>\n",
       "      <td>68</td>\n",
       "    </tr>\n",
       "    <tr>\n",
       "      <td>6</td>\n",
       "      <td>Azerbaijan (AZ)</td>\n",
       "      <td>66</td>\n",
       "    </tr>\n",
       "    <tr>\n",
       "      <td>7</td>\n",
       "      <td>Denmark (DK)</td>\n",
       "      <td>59</td>\n",
       "    </tr>\n",
       "    <tr>\n",
       "      <td>8</td>\n",
       "      <td>Honduras (HN)</td>\n",
       "      <td>57</td>\n",
       "    </tr>\n",
       "    <tr>\n",
       "      <td>9</td>\n",
       "      <td>India (IN)</td>\n",
       "      <td>56</td>\n",
       "    </tr>\n",
       "  </tbody>\n",
       "</table>\n",
       "</div>"
      ],
      "text/plain": [
       "               country  uniq_users\n",
       "0  Czech Republic (CZ)          81\n",
       "1         Moldova (MD)          81\n",
       "2      Kyrgyzstan (KG)          72\n",
       "3         Finland (FI)          72\n",
       "4      Uzbekistan (UZ)          68\n",
       "5     Netherlands (NL)          68\n",
       "6      Azerbaijan (AZ)          66\n",
       "7         Denmark (DK)          59\n",
       "8        Honduras (HN)          57\n",
       "9           India (IN)          56"
      ]
     },
     "execution_count": 106,
     "metadata": {},
     "output_type": "execute_result"
    }
   ],
   "source": [
    "top_countries"
   ]
  },
  {
   "cell_type": "code",
   "execution_count": 111,
   "metadata": {},
   "outputs": [
    {
     "data": {
      "text/html": [
       "<div>\n",
       "<style scoped>\n",
       "    .dataframe tbody tr th:only-of-type {\n",
       "        vertical-align: middle;\n",
       "    }\n",
       "\n",
       "    .dataframe tbody tr th {\n",
       "        vertical-align: top;\n",
       "    }\n",
       "\n",
       "    .dataframe thead th {\n",
       "        text-align: right;\n",
       "    }\n",
       "</style>\n",
       "<table border=\"1\" class=\"dataframe\">\n",
       "  <thead>\n",
       "    <tr style=\"text-align: right;\">\n",
       "      <th></th>\n",
       "      <th>date_created</th>\n",
       "      <th>site</th>\n",
       "      <th>country</th>\n",
       "      <th>uniq_users</th>\n",
       "      <th>regs</th>\n",
       "      <th>conv</th>\n",
       "      <th>code_id</th>\n",
       "      <th>status</th>\n",
       "      <th>code_name</th>\n",
       "    </tr>\n",
       "  </thead>\n",
       "  <tbody>\n",
       "    <tr>\n",
       "      <td>0</td>\n",
       "      <td>2019-08-01</td>\n",
       "      <td>SITE_2</td>\n",
       "      <td>Albania (AL)</td>\n",
       "      <td>76</td>\n",
       "      <td>5</td>\n",
       "      <td>0.065789</td>\n",
       "      <td>22</td>\n",
       "      <td>C</td>\n",
       "      <td>holiday</td>\n",
       "    </tr>\n",
       "    <tr>\n",
       "      <td>1</td>\n",
       "      <td>2019-08-01</td>\n",
       "      <td>SITE_1</td>\n",
       "      <td>Algeria (DZ)</td>\n",
       "      <td>213</td>\n",
       "      <td>66</td>\n",
       "      <td>0.309859</td>\n",
       "      <td>40</td>\n",
       "      <td>B</td>\n",
       "      <td>party</td>\n",
       "    </tr>\n",
       "    <tr>\n",
       "      <td>2</td>\n",
       "      <td>2019-08-01</td>\n",
       "      <td>SITE_3</td>\n",
       "      <td>Angola (AO)</td>\n",
       "      <td>45</td>\n",
       "      <td>10</td>\n",
       "      <td>0.222222</td>\n",
       "      <td>15</td>\n",
       "      <td>C</td>\n",
       "      <td>weekend</td>\n",
       "    </tr>\n",
       "    <tr>\n",
       "      <td>3</td>\n",
       "      <td>2019-08-01</td>\n",
       "      <td>SITE_2</td>\n",
       "      <td>Argentina (AR)</td>\n",
       "      <td>2191</td>\n",
       "      <td>103</td>\n",
       "      <td>0.047010</td>\n",
       "      <td>22</td>\n",
       "      <td>C</td>\n",
       "      <td>holiday</td>\n",
       "    </tr>\n",
       "    <tr>\n",
       "      <td>4</td>\n",
       "      <td>2019-08-01</td>\n",
       "      <td>SITE_3</td>\n",
       "      <td>Austria (AT)</td>\n",
       "      <td>2467</td>\n",
       "      <td>512</td>\n",
       "      <td>0.207540</td>\n",
       "      <td>40</td>\n",
       "      <td>C</td>\n",
       "      <td>party</td>\n",
       "    </tr>\n",
       "  </tbody>\n",
       "</table>\n",
       "</div>"
      ],
      "text/plain": [
       "  date_created    site         country  uniq_users  regs      conv  code_id  \\\n",
       "0   2019-08-01  SITE_2    Albania (AL)          76     5  0.065789       22   \n",
       "1   2019-08-01  SITE_1    Algeria (DZ)         213    66  0.309859       40   \n",
       "2   2019-08-01  SITE_3     Angola (AO)          45    10  0.222222       15   \n",
       "3   2019-08-01  SITE_2  Argentina (AR)        2191   103  0.047010       22   \n",
       "4   2019-08-01  SITE_3    Austria (AT)        2467   512  0.207540       40   \n",
       "\n",
       "  status code_name  \n",
       "0      C   holiday  \n",
       "1      B     party  \n",
       "2      C   weekend  \n",
       "3      C   holiday  \n",
       "4      C     party  "
      ]
     },
     "execution_count": 111,
     "metadata": {},
     "output_type": "execute_result"
    }
   ],
   "source": [
    "data.head()"
   ]
  },
  {
   "cell_type": "code",
   "execution_count": 113,
   "metadata": {},
   "outputs": [],
   "source": [
    "top_countr_conv = data[data['country'].isin(top_countries['country'])]\\\n",
    "    .groupby('country', as_index=False)\\\n",
    "    .agg({'uniq_users': 'sum', 'regs': 'sum'})"
   ]
  },
  {
   "cell_type": "code",
   "execution_count": 114,
   "metadata": {},
   "outputs": [],
   "source": [
    "top_countr_conv['conv'] = 100*top_countr_conv['regs']/top_countr_conv['uniq_users']"
   ]
  },
  {
   "cell_type": "code",
   "execution_count": 116,
   "metadata": {},
   "outputs": [
    {
     "data": {
      "text/html": [
       "<div>\n",
       "<style scoped>\n",
       "    .dataframe tbody tr th:only-of-type {\n",
       "        vertical-align: middle;\n",
       "    }\n",
       "\n",
       "    .dataframe tbody tr th {\n",
       "        vertical-align: top;\n",
       "    }\n",
       "\n",
       "    .dataframe thead th {\n",
       "        text-align: right;\n",
       "    }\n",
       "</style>\n",
       "<table border=\"1\" class=\"dataframe\">\n",
       "  <thead>\n",
       "    <tr style=\"text-align: right;\">\n",
       "      <th></th>\n",
       "      <th>country</th>\n",
       "      <th>uniq_users</th>\n",
       "      <th>regs</th>\n",
       "      <th>conv</th>\n",
       "    </tr>\n",
       "  </thead>\n",
       "  <tbody>\n",
       "    <tr>\n",
       "      <td>9</td>\n",
       "      <td>Uzbekistan (UZ)</td>\n",
       "      <td>127198</td>\n",
       "      <td>65835</td>\n",
       "      <td>51.757889</td>\n",
       "    </tr>\n",
       "    <tr>\n",
       "      <td>8</td>\n",
       "      <td>Netherlands (NL)</td>\n",
       "      <td>122457</td>\n",
       "      <td>50461</td>\n",
       "      <td>41.207118</td>\n",
       "    </tr>\n",
       "    <tr>\n",
       "      <td>6</td>\n",
       "      <td>Kyrgyzstan (KG)</td>\n",
       "      <td>102335</td>\n",
       "      <td>27074</td>\n",
       "      <td>26.456247</td>\n",
       "    </tr>\n",
       "    <tr>\n",
       "      <td>7</td>\n",
       "      <td>Moldova (MD)</td>\n",
       "      <td>104538</td>\n",
       "      <td>22899</td>\n",
       "      <td>21.904953</td>\n",
       "    </tr>\n",
       "    <tr>\n",
       "      <td>5</td>\n",
       "      <td>India (IN)</td>\n",
       "      <td>23954</td>\n",
       "      <td>3807</td>\n",
       "      <td>15.892962</td>\n",
       "    </tr>\n",
       "    <tr>\n",
       "      <td>0</td>\n",
       "      <td>Azerbaijan (AZ)</td>\n",
       "      <td>102457</td>\n",
       "      <td>14999</td>\n",
       "      <td>14.639312</td>\n",
       "    </tr>\n",
       "    <tr>\n",
       "      <td>2</td>\n",
       "      <td>Denmark (DK)</td>\n",
       "      <td>44861</td>\n",
       "      <td>1847</td>\n",
       "      <td>4.117162</td>\n",
       "    </tr>\n",
       "    <tr>\n",
       "      <td>3</td>\n",
       "      <td>Finland (FI)</td>\n",
       "      <td>175549</td>\n",
       "      <td>5696</td>\n",
       "      <td>3.244678</td>\n",
       "    </tr>\n",
       "    <tr>\n",
       "      <td>1</td>\n",
       "      <td>Czech Republic (CZ)</td>\n",
       "      <td>338459</td>\n",
       "      <td>7458</td>\n",
       "      <td>2.203517</td>\n",
       "    </tr>\n",
       "    <tr>\n",
       "      <td>4</td>\n",
       "      <td>Honduras (HN)</td>\n",
       "      <td>46536</td>\n",
       "      <td>349</td>\n",
       "      <td>0.749957</td>\n",
       "    </tr>\n",
       "  </tbody>\n",
       "</table>\n",
       "</div>"
      ],
      "text/plain": [
       "               country  uniq_users   regs       conv\n",
       "9      Uzbekistan (UZ)      127198  65835  51.757889\n",
       "8     Netherlands (NL)      122457  50461  41.207118\n",
       "6      Kyrgyzstan (KG)      102335  27074  26.456247\n",
       "7         Moldova (MD)      104538  22899  21.904953\n",
       "5           India (IN)       23954   3807  15.892962\n",
       "0      Azerbaijan (AZ)      102457  14999  14.639312\n",
       "2         Denmark (DK)       44861   1847   4.117162\n",
       "3         Finland (FI)      175549   5696   3.244678\n",
       "1  Czech Republic (CZ)      338459   7458   2.203517\n",
       "4        Honduras (HN)       46536    349   0.749957"
      ]
     },
     "execution_count": 116,
     "metadata": {},
     "output_type": "execute_result"
    }
   ],
   "source": [
    "top_countr_conv.sort_values('conv', ascending=False)"
   ]
  },
  {
   "cell_type": "code",
   "execution_count": null,
   "metadata": {},
   "outputs": [],
   "source": []
  },
  {
   "cell_type": "markdown",
   "metadata": {},
   "source": [
    "### Task 2"
   ]
  },
  {
   "cell_type": "code",
   "execution_count": 119,
   "metadata": {},
   "outputs": [],
   "source": [
    "data = pd.read_excel('Test MS Excel_MA.xlsx', sheet_name='task2', header=1, usecols=1)"
   ]
  },
  {
   "cell_type": "code",
   "execution_count": 121,
   "metadata": {},
   "outputs": [],
   "source": [
    "data['Ref Code 2'] = data['Ref Code 1'].apply(lambda x: x.split('SOURCEREF_')[1])"
   ]
  },
  {
   "cell_type": "code",
   "execution_count": 125,
   "metadata": {},
   "outputs": [],
   "source": [
    "table_2 = pd.read_clipboard()"
   ]
  },
  {
   "cell_type": "code",
   "execution_count": 131,
   "metadata": {},
   "outputs": [],
   "source": [
    "table_2.rename(columns={'Таблица 2': 'pattern'}, inplace=True)"
   ]
  },
  {
   "cell_type": "code",
   "execution_count": 132,
   "metadata": {},
   "outputs": [
    {
     "data": {
      "text/html": [
       "<div>\n",
       "<style scoped>\n",
       "    .dataframe tbody tr th:only-of-type {\n",
       "        vertical-align: middle;\n",
       "    }\n",
       "\n",
       "    .dataframe tbody tr th {\n",
       "        vertical-align: top;\n",
       "    }\n",
       "\n",
       "    .dataframe thead th {\n",
       "        text-align: right;\n",
       "    }\n",
       "</style>\n",
       "<table border=\"1\" class=\"dataframe\">\n",
       "  <thead>\n",
       "    <tr style=\"text-align: right;\">\n",
       "      <th></th>\n",
       "      <th>pattern</th>\n",
       "      <th>Кол-во в таблице</th>\n",
       "    </tr>\n",
       "  </thead>\n",
       "  <tbody>\n",
       "    <tr>\n",
       "      <td>0</td>\n",
       "      <td>paid1</td>\n",
       "      <td>NaN</td>\n",
       "    </tr>\n",
       "    <tr>\n",
       "      <td>1</td>\n",
       "      <td>paid2</td>\n",
       "      <td>NaN</td>\n",
       "    </tr>\n",
       "    <tr>\n",
       "      <td>2</td>\n",
       "      <td>paid3</td>\n",
       "      <td>NaN</td>\n",
       "    </tr>\n",
       "    <tr>\n",
       "      <td>3</td>\n",
       "      <td>paid4</td>\n",
       "      <td>NaN</td>\n",
       "    </tr>\n",
       "  </tbody>\n",
       "</table>\n",
       "</div>"
      ],
      "text/plain": [
       "  pattern  Кол-во в таблице\n",
       "0   paid1               NaN\n",
       "1   paid2               NaN\n",
       "2   paid3               NaN\n",
       "3   paid4               NaN"
      ]
     },
     "execution_count": 132,
     "metadata": {},
     "output_type": "execute_result"
    }
   ],
   "source": [
    "table_2"
   ]
  },
  {
   "cell_type": "code",
   "execution_count": 127,
   "metadata": {},
   "outputs": [],
   "source": [
    "table_3 = pd.read_clipboard()"
   ]
  },
  {
   "cell_type": "code",
   "execution_count": 133,
   "metadata": {},
   "outputs": [],
   "source": [
    "table_3.rename(columns={'Таблица 3': 'pattern'}, inplace=True)"
   ]
  },
  {
   "cell_type": "code",
   "execution_count": 134,
   "metadata": {},
   "outputs": [
    {
     "data": {
      "text/html": [
       "<div>\n",
       "<style scoped>\n",
       "    .dataframe tbody tr th:only-of-type {\n",
       "        vertical-align: middle;\n",
       "    }\n",
       "\n",
       "    .dataframe tbody tr th {\n",
       "        vertical-align: top;\n",
       "    }\n",
       "\n",
       "    .dataframe thead th {\n",
       "        text-align: right;\n",
       "    }\n",
       "</style>\n",
       "<table border=\"1\" class=\"dataframe\">\n",
       "  <thead>\n",
       "    <tr style=\"text-align: right;\">\n",
       "      <th></th>\n",
       "      <th>pattern</th>\n",
       "      <th>Кол-во в таблице</th>\n",
       "    </tr>\n",
       "  </thead>\n",
       "  <tbody>\n",
       "    <tr>\n",
       "      <td>0</td>\n",
       "      <td>wp</td>\n",
       "      <td>NaN</td>\n",
       "    </tr>\n",
       "    <tr>\n",
       "      <td>1</td>\n",
       "      <td>mb</td>\n",
       "      <td>NaN</td>\n",
       "    </tr>\n",
       "    <tr>\n",
       "      <td>2</td>\n",
       "      <td>rm</td>\n",
       "      <td>NaN</td>\n",
       "    </tr>\n",
       "    <tr>\n",
       "      <td>3</td>\n",
       "      <td>ns</td>\n",
       "      <td>NaN</td>\n",
       "    </tr>\n",
       "    <tr>\n",
       "      <td>4</td>\n",
       "      <td>dr</td>\n",
       "      <td>NaN</td>\n",
       "    </tr>\n",
       "  </tbody>\n",
       "</table>\n",
       "</div>"
      ],
      "text/plain": [
       "  pattern  Кол-во в таблице\n",
       "0      wp               NaN\n",
       "1      mb               NaN\n",
       "2      rm               NaN\n",
       "3      ns               NaN\n",
       "4      dr               NaN"
      ]
     },
     "execution_count": 134,
     "metadata": {},
     "output_type": "execute_result"
    }
   ],
   "source": [
    "table_3"
   ]
  },
  {
   "cell_type": "code",
   "execution_count": 140,
   "metadata": {},
   "outputs": [],
   "source": [
    "def find_patt(table):\n",
    "    for index, row in table.iterrows():\n",
    "        patt = row['pattern']\n",
    "        table.loc[index, 'Кол-во в таблице'] = data[data['Ref Code 1'].str.contains(f\"_{patt}_\")].shape[0]\n",
    "    return table"
   ]
  },
  {
   "cell_type": "code",
   "execution_count": 141,
   "metadata": {},
   "outputs": [
    {
     "data": {
      "text/html": [
       "<div>\n",
       "<style scoped>\n",
       "    .dataframe tbody tr th:only-of-type {\n",
       "        vertical-align: middle;\n",
       "    }\n",
       "\n",
       "    .dataframe tbody tr th {\n",
       "        vertical-align: top;\n",
       "    }\n",
       "\n",
       "    .dataframe thead th {\n",
       "        text-align: right;\n",
       "    }\n",
       "</style>\n",
       "<table border=\"1\" class=\"dataframe\">\n",
       "  <thead>\n",
       "    <tr style=\"text-align: right;\">\n",
       "      <th></th>\n",
       "      <th>pattern</th>\n",
       "      <th>Кол-во в таблице</th>\n",
       "    </tr>\n",
       "  </thead>\n",
       "  <tbody>\n",
       "    <tr>\n",
       "      <td>0</td>\n",
       "      <td>paid1</td>\n",
       "      <td>0.0</td>\n",
       "    </tr>\n",
       "    <tr>\n",
       "      <td>1</td>\n",
       "      <td>paid2</td>\n",
       "      <td>7.0</td>\n",
       "    </tr>\n",
       "    <tr>\n",
       "      <td>2</td>\n",
       "      <td>paid3</td>\n",
       "      <td>14.0</td>\n",
       "    </tr>\n",
       "    <tr>\n",
       "      <td>3</td>\n",
       "      <td>paid4</td>\n",
       "      <td>7.0</td>\n",
       "    </tr>\n",
       "  </tbody>\n",
       "</table>\n",
       "</div>"
      ],
      "text/plain": [
       "  pattern  Кол-во в таблице\n",
       "0   paid1               0.0\n",
       "1   paid2               7.0\n",
       "2   paid3              14.0\n",
       "3   paid4               7.0"
      ]
     },
     "execution_count": 141,
     "metadata": {},
     "output_type": "execute_result"
    }
   ],
   "source": [
    "find_patt(table_2)"
   ]
  },
  {
   "cell_type": "code",
   "execution_count": 142,
   "metadata": {},
   "outputs": [
    {
     "data": {
      "text/html": [
       "<div>\n",
       "<style scoped>\n",
       "    .dataframe tbody tr th:only-of-type {\n",
       "        vertical-align: middle;\n",
       "    }\n",
       "\n",
       "    .dataframe tbody tr th {\n",
       "        vertical-align: top;\n",
       "    }\n",
       "\n",
       "    .dataframe thead th {\n",
       "        text-align: right;\n",
       "    }\n",
       "</style>\n",
       "<table border=\"1\" class=\"dataframe\">\n",
       "  <thead>\n",
       "    <tr style=\"text-align: right;\">\n",
       "      <th></th>\n",
       "      <th>pattern</th>\n",
       "      <th>Кол-во в таблице</th>\n",
       "    </tr>\n",
       "  </thead>\n",
       "  <tbody>\n",
       "    <tr>\n",
       "      <td>0</td>\n",
       "      <td>wp</td>\n",
       "      <td>10.0</td>\n",
       "    </tr>\n",
       "    <tr>\n",
       "      <td>1</td>\n",
       "      <td>mb</td>\n",
       "      <td>3.0</td>\n",
       "    </tr>\n",
       "    <tr>\n",
       "      <td>2</td>\n",
       "      <td>rm</td>\n",
       "      <td>12.0</td>\n",
       "    </tr>\n",
       "    <tr>\n",
       "      <td>3</td>\n",
       "      <td>ns</td>\n",
       "      <td>3.0</td>\n",
       "    </tr>\n",
       "    <tr>\n",
       "      <td>4</td>\n",
       "      <td>dr</td>\n",
       "      <td>0.0</td>\n",
       "    </tr>\n",
       "  </tbody>\n",
       "</table>\n",
       "</div>"
      ],
      "text/plain": [
       "  pattern  Кол-во в таблице\n",
       "0      wp              10.0\n",
       "1      mb               3.0\n",
       "2      rm              12.0\n",
       "3      ns               3.0\n",
       "4      dr               0.0"
      ]
     },
     "execution_count": 142,
     "metadata": {},
     "output_type": "execute_result"
    }
   ],
   "source": [
    "find_patt(table_3)"
   ]
  },
  {
   "cell_type": "markdown",
   "metadata": {},
   "source": [
    "### Task 3"
   ]
  },
  {
   "cell_type": "code",
   "execution_count": 154,
   "metadata": {},
   "outputs": [],
   "source": [
    "data = pd.read_excel('Test MS Excel_MA.xlsx', sheet_name='task3', header=1, usecols=4)\\\n",
    "    .rename(\n",
    "        columns={\n",
    "            'Customer ID': 'id_user', \n",
    "            'Рекламный баннер ': 'banner', \n",
    "            'Дата регистрации': 'date_reg', \n",
    "            'Кол-во покупок': 'payments', \n",
    "            'Пол': 'gender'\n",
    "        }\n",
    "    )"
   ]
  },
  {
   "cell_type": "code",
   "execution_count": 155,
   "metadata": {},
   "outputs": [
    {
     "data": {
      "text/html": [
       "<div>\n",
       "<style scoped>\n",
       "    .dataframe tbody tr th:only-of-type {\n",
       "        vertical-align: middle;\n",
       "    }\n",
       "\n",
       "    .dataframe tbody tr th {\n",
       "        vertical-align: top;\n",
       "    }\n",
       "\n",
       "    .dataframe thead th {\n",
       "        text-align: right;\n",
       "    }\n",
       "</style>\n",
       "<table border=\"1\" class=\"dataframe\">\n",
       "  <thead>\n",
       "    <tr style=\"text-align: right;\">\n",
       "      <th></th>\n",
       "      <th>id_user</th>\n",
       "      <th>banner</th>\n",
       "      <th>date_reg</th>\n",
       "      <th>payments</th>\n",
       "      <th>gender</th>\n",
       "    </tr>\n",
       "  </thead>\n",
       "  <tbody>\n",
       "    <tr>\n",
       "      <td>0</td>\n",
       "      <td>2</td>\n",
       "      <td>Banner 4</td>\n",
       "      <td>2018-10-29 00:01:41</td>\n",
       "      <td>3</td>\n",
       "      <td>ж</td>\n",
       "    </tr>\n",
       "    <tr>\n",
       "      <td>1</td>\n",
       "      <td>3</td>\n",
       "      <td>Banner 4</td>\n",
       "      <td>2018-10-29 00:01:42</td>\n",
       "      <td>0</td>\n",
       "      <td>ж</td>\n",
       "    </tr>\n",
       "    <tr>\n",
       "      <td>2</td>\n",
       "      <td>4</td>\n",
       "      <td>Banner 4</td>\n",
       "      <td>2018-10-29 00:02:13</td>\n",
       "      <td>1</td>\n",
       "      <td>ж</td>\n",
       "    </tr>\n",
       "    <tr>\n",
       "      <td>3</td>\n",
       "      <td>6</td>\n",
       "      <td>Banner 4</td>\n",
       "      <td>2018-10-29 00:03:12</td>\n",
       "      <td>9</td>\n",
       "      <td>ж</td>\n",
       "    </tr>\n",
       "    <tr>\n",
       "      <td>4</td>\n",
       "      <td>9</td>\n",
       "      <td>Banner 4</td>\n",
       "      <td>2018-10-29 00:12:30</td>\n",
       "      <td>1</td>\n",
       "      <td>ж</td>\n",
       "    </tr>\n",
       "    <tr>\n",
       "      <td>...</td>\n",
       "      <td>...</td>\n",
       "      <td>...</td>\n",
       "      <td>...</td>\n",
       "      <td>...</td>\n",
       "      <td>...</td>\n",
       "    </tr>\n",
       "    <tr>\n",
       "      <td>33956</td>\n",
       "      <td>112943</td>\n",
       "      <td>Banner 2</td>\n",
       "      <td>2018-12-02 23:26:36</td>\n",
       "      <td>1</td>\n",
       "      <td>м</td>\n",
       "    </tr>\n",
       "    <tr>\n",
       "      <td>33957</td>\n",
       "      <td>112944</td>\n",
       "      <td>Banner 2</td>\n",
       "      <td>2018-12-02 23:31:40</td>\n",
       "      <td>0</td>\n",
       "      <td>м</td>\n",
       "    </tr>\n",
       "    <tr>\n",
       "      <td>33958</td>\n",
       "      <td>112945</td>\n",
       "      <td>Banner 3</td>\n",
       "      <td>2018-12-02 23:34:40</td>\n",
       "      <td>1</td>\n",
       "      <td>м</td>\n",
       "    </tr>\n",
       "    <tr>\n",
       "      <td>33959</td>\n",
       "      <td>112946</td>\n",
       "      <td>Banner 3</td>\n",
       "      <td>2018-12-02 23:35:12</td>\n",
       "      <td>0</td>\n",
       "      <td>м</td>\n",
       "    </tr>\n",
       "    <tr>\n",
       "      <td>33960</td>\n",
       "      <td>112947</td>\n",
       "      <td>Banner 3</td>\n",
       "      <td>2018-12-02 23:55:27</td>\n",
       "      <td>8</td>\n",
       "      <td>м</td>\n",
       "    </tr>\n",
       "  </tbody>\n",
       "</table>\n",
       "<p>33961 rows × 5 columns</p>\n",
       "</div>"
      ],
      "text/plain": [
       "       id_user    banner            date_reg  payments gender\n",
       "0            2  Banner 4 2018-10-29 00:01:41         3      ж\n",
       "1            3  Banner 4 2018-10-29 00:01:42         0      ж\n",
       "2            4  Banner 4 2018-10-29 00:02:13         1      ж\n",
       "3            6  Banner 4 2018-10-29 00:03:12         9      ж\n",
       "4            9  Banner 4 2018-10-29 00:12:30         1      ж\n",
       "...        ...       ...                 ...       ...    ...\n",
       "33956   112943  Banner 2 2018-12-02 23:26:36         1      м\n",
       "33957   112944  Banner 2 2018-12-02 23:31:40         0      м\n",
       "33958   112945  Banner 3 2018-12-02 23:34:40         1      м\n",
       "33959   112946  Banner 3 2018-12-02 23:35:12         0      м\n",
       "33960   112947  Banner 3 2018-12-02 23:55:27         8      м\n",
       "\n",
       "[33961 rows x 5 columns]"
      ]
     },
     "execution_count": 155,
     "metadata": {},
     "output_type": "execute_result"
    }
   ],
   "source": [
    "data"
   ]
  },
  {
   "cell_type": "code",
   "execution_count": 156,
   "metadata": {},
   "outputs": [
    {
     "data": {
      "text/plain": [
       "(33961, 5)"
      ]
     },
     "execution_count": 156,
     "metadata": {},
     "output_type": "execute_result"
    }
   ],
   "source": [
    "data.drop_duplicates().shape"
   ]
  },
  {
   "cell_type": "code",
   "execution_count": 158,
   "metadata": {},
   "outputs": [],
   "source": [
    "by_banner = data.groupby(['banner'], as_index=False)\\\n",
    "    .agg({'id_user':'count', 'payments': 'sum'})\\\n",
    "    .rename(columns={'id_user': 'n_users'})"
   ]
  },
  {
   "cell_type": "markdown",
   "metadata": {},
   "source": [
    "### Рассмотрим общуюю структуру данных"
   ]
  },
  {
   "cell_type": "code",
   "execution_count": 159,
   "metadata": {},
   "outputs": [
    {
     "data": {
      "text/html": [
       "<div>\n",
       "<style scoped>\n",
       "    .dataframe tbody tr th:only-of-type {\n",
       "        vertical-align: middle;\n",
       "    }\n",
       "\n",
       "    .dataframe tbody tr th {\n",
       "        vertical-align: top;\n",
       "    }\n",
       "\n",
       "    .dataframe thead th {\n",
       "        text-align: right;\n",
       "    }\n",
       "</style>\n",
       "<table border=\"1\" class=\"dataframe\">\n",
       "  <thead>\n",
       "    <tr style=\"text-align: right;\">\n",
       "      <th></th>\n",
       "      <th>banner</th>\n",
       "      <th>n_users</th>\n",
       "      <th>payments</th>\n",
       "    </tr>\n",
       "  </thead>\n",
       "  <tbody>\n",
       "    <tr>\n",
       "      <td>0</td>\n",
       "      <td>Banner 2</td>\n",
       "      <td>736</td>\n",
       "      <td>2212</td>\n",
       "    </tr>\n",
       "    <tr>\n",
       "      <td>1</td>\n",
       "      <td>Banner 3</td>\n",
       "      <td>730</td>\n",
       "      <td>3168</td>\n",
       "    </tr>\n",
       "    <tr>\n",
       "      <td>2</td>\n",
       "      <td>Banner 4</td>\n",
       "      <td>27887</td>\n",
       "      <td>57465</td>\n",
       "    </tr>\n",
       "    <tr>\n",
       "      <td>3</td>\n",
       "      <td>Banner 5</td>\n",
       "      <td>4608</td>\n",
       "      <td>4180</td>\n",
       "    </tr>\n",
       "  </tbody>\n",
       "</table>\n",
       "</div>"
      ],
      "text/plain": [
       "     banner  n_users  payments\n",
       "0  Banner 2      736      2212\n",
       "1  Banner 3      730      3168\n",
       "2  Banner 4    27887     57465\n",
       "3  Banner 5     4608      4180"
      ]
     },
     "execution_count": 159,
     "metadata": {},
     "output_type": "execute_result"
    }
   ],
   "source": [
    "by_banner"
   ]
  },
  {
   "cell_type": "code",
   "execution_count": 161,
   "metadata": {},
   "outputs": [],
   "source": [
    "by_banner['pmt_per_user'] = by_banner['payments']/by_banner['n_users']"
   ]
  },
  {
   "cell_type": "code",
   "execution_count": 162,
   "metadata": {},
   "outputs": [
    {
     "data": {
      "text/html": [
       "<div>\n",
       "<style scoped>\n",
       "    .dataframe tbody tr th:only-of-type {\n",
       "        vertical-align: middle;\n",
       "    }\n",
       "\n",
       "    .dataframe tbody tr th {\n",
       "        vertical-align: top;\n",
       "    }\n",
       "\n",
       "    .dataframe thead th {\n",
       "        text-align: right;\n",
       "    }\n",
       "</style>\n",
       "<table border=\"1\" class=\"dataframe\">\n",
       "  <thead>\n",
       "    <tr style=\"text-align: right;\">\n",
       "      <th></th>\n",
       "      <th>banner</th>\n",
       "      <th>n_users</th>\n",
       "      <th>payments</th>\n",
       "      <th>pmt_per_user</th>\n",
       "    </tr>\n",
       "  </thead>\n",
       "  <tbody>\n",
       "    <tr>\n",
       "      <td>0</td>\n",
       "      <td>Banner 2</td>\n",
       "      <td>736</td>\n",
       "      <td>2212</td>\n",
       "      <td>3.005435</td>\n",
       "    </tr>\n",
       "    <tr>\n",
       "      <td>1</td>\n",
       "      <td>Banner 3</td>\n",
       "      <td>730</td>\n",
       "      <td>3168</td>\n",
       "      <td>4.339726</td>\n",
       "    </tr>\n",
       "    <tr>\n",
       "      <td>2</td>\n",
       "      <td>Banner 4</td>\n",
       "      <td>27887</td>\n",
       "      <td>57465</td>\n",
       "      <td>2.060638</td>\n",
       "    </tr>\n",
       "    <tr>\n",
       "      <td>3</td>\n",
       "      <td>Banner 5</td>\n",
       "      <td>4608</td>\n",
       "      <td>4180</td>\n",
       "      <td>0.907118</td>\n",
       "    </tr>\n",
       "  </tbody>\n",
       "</table>\n",
       "</div>"
      ],
      "text/plain": [
       "     banner  n_users  payments  pmt_per_user\n",
       "0  Banner 2      736      2212      3.005435\n",
       "1  Banner 3      730      3168      4.339726\n",
       "2  Banner 4    27887     57465      2.060638\n",
       "3  Banner 5     4608      4180      0.907118"
      ]
     },
     "execution_count": 162,
     "metadata": {},
     "output_type": "execute_result"
    }
   ],
   "source": [
    "by_banner"
   ]
  },
  {
   "cell_type": "code",
   "execution_count": 172,
   "metadata": {},
   "outputs": [],
   "source": [
    "by_ban_gen = data.groupby(['banner', 'gender'], as_index=False)\\\n",
    "    .agg({'id_user':'count', 'payments': 'sum'})\\\n",
    "    .rename(columns={'id_user': 'n_users'})"
   ]
  },
  {
   "cell_type": "code",
   "execution_count": 173,
   "metadata": {},
   "outputs": [],
   "source": [
    "by_ban_gen['pmt_per_user'] = by_ban_gen['payments']/by_ban_gen['n_users']"
   ]
  },
  {
   "cell_type": "code",
   "execution_count": 199,
   "metadata": {},
   "outputs": [
    {
     "data": {
      "text/html": [
       "<div>\n",
       "<style scoped>\n",
       "    .dataframe tbody tr th:only-of-type {\n",
       "        vertical-align: middle;\n",
       "    }\n",
       "\n",
       "    .dataframe tbody tr th {\n",
       "        vertical-align: top;\n",
       "    }\n",
       "\n",
       "    .dataframe thead th {\n",
       "        text-align: right;\n",
       "    }\n",
       "</style>\n",
       "<table border=\"1\" class=\"dataframe\">\n",
       "  <thead>\n",
       "    <tr style=\"text-align: right;\">\n",
       "      <th></th>\n",
       "      <th>banner</th>\n",
       "      <th>gender</th>\n",
       "      <th>uniq_payers</th>\n",
       "    </tr>\n",
       "  </thead>\n",
       "  <tbody>\n",
       "    <tr>\n",
       "      <td>0</td>\n",
       "      <td>Banner 2</td>\n",
       "      <td>ж</td>\n",
       "      <td>168</td>\n",
       "    </tr>\n",
       "    <tr>\n",
       "      <td>1</td>\n",
       "      <td>Banner 2</td>\n",
       "      <td>м</td>\n",
       "      <td>119</td>\n",
       "    </tr>\n",
       "    <tr>\n",
       "      <td>2</td>\n",
       "      <td>Banner 3</td>\n",
       "      <td>ж</td>\n",
       "      <td>121</td>\n",
       "    </tr>\n",
       "    <tr>\n",
       "      <td>3</td>\n",
       "      <td>Banner 3</td>\n",
       "      <td>м</td>\n",
       "      <td>172</td>\n",
       "    </tr>\n",
       "    <tr>\n",
       "      <td>4</td>\n",
       "      <td>Banner 4</td>\n",
       "      <td>ж</td>\n",
       "      <td>5298</td>\n",
       "    </tr>\n",
       "    <tr>\n",
       "      <td>5</td>\n",
       "      <td>Banner 4</td>\n",
       "      <td>м</td>\n",
       "      <td>6811</td>\n",
       "    </tr>\n",
       "    <tr>\n",
       "      <td>6</td>\n",
       "      <td>Banner 5</td>\n",
       "      <td>ж</td>\n",
       "      <td>751</td>\n",
       "    </tr>\n",
       "    <tr>\n",
       "      <td>7</td>\n",
       "      <td>Banner 5</td>\n",
       "      <td>м</td>\n",
       "      <td>625</td>\n",
       "    </tr>\n",
       "  </tbody>\n",
       "</table>\n",
       "</div>"
      ],
      "text/plain": [
       "     banner gender  uniq_payers\n",
       "0  Banner 2      ж          168\n",
       "1  Banner 2      м          119\n",
       "2  Banner 3      ж          121\n",
       "3  Banner 3      м          172\n",
       "4  Banner 4      ж         5298\n",
       "5  Banner 4      м         6811\n",
       "6  Banner 5      ж          751\n",
       "7  Banner 5      м          625"
      ]
     },
     "execution_count": 199,
     "metadata": {},
     "output_type": "execute_result"
    }
   ],
   "source": []
  },
  {
   "cell_type": "code",
   "execution_count": 200,
   "metadata": {},
   "outputs": [],
   "source": [
    "by_ban_gen = pd.merge(\n",
    "    by_ban_gen,\n",
    "    data[data['payments'] != 0].groupby(['banner', 'gender'], as_index=False)\\\n",
    "        .agg({'id_user':'count'})\\\n",
    "        .rename(columns={'id_user': 'uniq_payers'}),\n",
    "    how='left',\n",
    "    on=['banner', 'gender']\n",
    ")"
   ]
  },
  {
   "cell_type": "code",
   "execution_count": 202,
   "metadata": {},
   "outputs": [],
   "source": [
    "by_ban_gen['payers_to_regs'] = by_ban_gen['uniq_payers']/by_ban_gen['n_users']"
   ]
  },
  {
   "cell_type": "code",
   "execution_count": 203,
   "metadata": {},
   "outputs": [
    {
     "data": {
      "text/html": [
       "<div>\n",
       "<style scoped>\n",
       "    .dataframe tbody tr th:only-of-type {\n",
       "        vertical-align: middle;\n",
       "    }\n",
       "\n",
       "    .dataframe tbody tr th {\n",
       "        vertical-align: top;\n",
       "    }\n",
       "\n",
       "    .dataframe thead th {\n",
       "        text-align: right;\n",
       "    }\n",
       "</style>\n",
       "<table border=\"1\" class=\"dataframe\">\n",
       "  <thead>\n",
       "    <tr style=\"text-align: right;\">\n",
       "      <th></th>\n",
       "      <th>banner</th>\n",
       "      <th>gender</th>\n",
       "      <th>n_users</th>\n",
       "      <th>payments</th>\n",
       "      <th>pmt_per_user</th>\n",
       "      <th>uniq_payers</th>\n",
       "      <th>payers_to_regs</th>\n",
       "    </tr>\n",
       "  </thead>\n",
       "  <tbody>\n",
       "    <tr>\n",
       "      <td>0</td>\n",
       "      <td>Banner 2</td>\n",
       "      <td>ж</td>\n",
       "      <td>413</td>\n",
       "      <td>1086</td>\n",
       "      <td>2.629540</td>\n",
       "      <td>168</td>\n",
       "      <td>0.406780</td>\n",
       "    </tr>\n",
       "    <tr>\n",
       "      <td>1</td>\n",
       "      <td>Banner 2</td>\n",
       "      <td>м</td>\n",
       "      <td>323</td>\n",
       "      <td>1126</td>\n",
       "      <td>3.486068</td>\n",
       "      <td>119</td>\n",
       "      <td>0.368421</td>\n",
       "    </tr>\n",
       "    <tr>\n",
       "      <td>2</td>\n",
       "      <td>Banner 3</td>\n",
       "      <td>ж</td>\n",
       "      <td>323</td>\n",
       "      <td>1368</td>\n",
       "      <td>4.235294</td>\n",
       "      <td>121</td>\n",
       "      <td>0.374613</td>\n",
       "    </tr>\n",
       "    <tr>\n",
       "      <td>3</td>\n",
       "      <td>Banner 3</td>\n",
       "      <td>м</td>\n",
       "      <td>407</td>\n",
       "      <td>1800</td>\n",
       "      <td>4.422604</td>\n",
       "      <td>172</td>\n",
       "      <td>0.422604</td>\n",
       "    </tr>\n",
       "    <tr>\n",
       "      <td>4</td>\n",
       "      <td>Banner 4</td>\n",
       "      <td>ж</td>\n",
       "      <td>12001</td>\n",
       "      <td>24056</td>\n",
       "      <td>2.004500</td>\n",
       "      <td>5298</td>\n",
       "      <td>0.441463</td>\n",
       "    </tr>\n",
       "    <tr>\n",
       "      <td>5</td>\n",
       "      <td>Banner 4</td>\n",
       "      <td>м</td>\n",
       "      <td>15886</td>\n",
       "      <td>33409</td>\n",
       "      <td>2.103047</td>\n",
       "      <td>6811</td>\n",
       "      <td>0.428742</td>\n",
       "    </tr>\n",
       "    <tr>\n",
       "      <td>6</td>\n",
       "      <td>Banner 5</td>\n",
       "      <td>ж</td>\n",
       "      <td>2163</td>\n",
       "      <td>2321</td>\n",
       "      <td>1.073047</td>\n",
       "      <td>751</td>\n",
       "      <td>0.347203</td>\n",
       "    </tr>\n",
       "    <tr>\n",
       "      <td>7</td>\n",
       "      <td>Banner 5</td>\n",
       "      <td>м</td>\n",
       "      <td>2445</td>\n",
       "      <td>1859</td>\n",
       "      <td>0.760327</td>\n",
       "      <td>625</td>\n",
       "      <td>0.255624</td>\n",
       "    </tr>\n",
       "  </tbody>\n",
       "</table>\n",
       "</div>"
      ],
      "text/plain": [
       "     banner gender  n_users  payments  pmt_per_user  uniq_payers  \\\n",
       "0  Banner 2      ж      413      1086      2.629540          168   \n",
       "1  Banner 2      м      323      1126      3.486068          119   \n",
       "2  Banner 3      ж      323      1368      4.235294          121   \n",
       "3  Banner 3      м      407      1800      4.422604          172   \n",
       "4  Banner 4      ж    12001     24056      2.004500         5298   \n",
       "5  Banner 4      м    15886     33409      2.103047         6811   \n",
       "6  Banner 5      ж     2163      2321      1.073047          751   \n",
       "7  Banner 5      м     2445      1859      0.760327          625   \n",
       "\n",
       "   payers_to_regs  \n",
       "0        0.406780  \n",
       "1        0.368421  \n",
       "2        0.374613  \n",
       "3        0.422604  \n",
       "4        0.441463  \n",
       "5        0.428742  \n",
       "6        0.347203  \n",
       "7        0.255624  "
      ]
     },
     "execution_count": 203,
     "metadata": {},
     "output_type": "execute_result"
    }
   ],
   "source": [
    "by_ban_gen"
   ]
  },
  {
   "cell_type": "markdown",
   "metadata": {},
   "source": [
    "### Видим первый интересный момент: мужской трафик по 5му баннеру заметно менее платящий. Однако, если он и соизмеримо дешевле, то ничего необычного"
   ]
  },
  {
   "cell_type": "code",
   "execution_count": null,
   "metadata": {},
   "outputs": [],
   "source": []
  },
  {
   "cell_type": "code",
   "execution_count": 178,
   "metadata": {},
   "outputs": [],
   "source": []
  },
  {
   "cell_type": "code",
   "execution_count": 194,
   "metadata": {},
   "outputs": [],
   "source": [
    "sns.set(rc={'figure.figsize':(20, 8.27)})"
   ]
  },
  {
   "cell_type": "markdown",
   "metadata": {},
   "source": [
    "### Посмотрим как распределены регистрации и оплаты во времени"
   ]
  },
  {
   "cell_type": "code",
   "execution_count": 206,
   "metadata": {},
   "outputs": [],
   "source": [
    "by_ban_day = data.groupby(['banner', pd.Grouper(key='date_reg', freq='D')])\\\n",
    "    .agg({'id_user': 'count', 'payments': 'sum'})\\\n",
    "    .reset_index()"
   ]
  },
  {
   "cell_type": "code",
   "execution_count": 269,
   "metadata": {},
   "outputs": [],
   "source": [
    "by_ban_day['p_to_reg'] = by_ban_day['payments']/by_ban_day['id_user']"
   ]
  },
  {
   "cell_type": "code",
   "execution_count": 207,
   "metadata": {},
   "outputs": [
    {
     "data": {
      "text/plain": [
       "<matplotlib.axes._subplots.AxesSubplot at 0x1a3ec93240>"
      ]
     },
     "execution_count": 207,
     "metadata": {},
     "output_type": "execute_result"
    },
    {
     "data": {
      "image/png": "[encoded data removed]",
      "text/plain": [
       "<Figure size 1440x595.44 with 1 Axes>"
      ]
     },
     "metadata": {},
     "output_type": "display_data"
    }
   ],
   "source": [
    "sns.lineplot(\n",
    "    data=by_ban_day, \n",
    "    x='date_reg', y='id_user', hue='banner'\n",
    ")"
   ]
  },
  {
   "cell_type": "code",
   "execution_count": 198,
   "metadata": {},
   "outputs": [
    {
     "data": {
      "text/plain": [
       "<matplotlib.axes._subplots.AxesSubplot at 0x1a405666a0>"
      ]
     },
     "execution_count": 198,
     "metadata": {},
     "output_type": "execute_result"
    },
    {
     "data": {
      "image/png": "[encoded data removed]",
      "text/plain": [
       "<Figure size 1440x595.44 with 1 Axes>"
      ]
     },
     "metadata": {},
     "output_type": "display_data"
    }
   ],
   "source": [
    "sns.lineplot(\n",
    "    data=by_ban_day, \n",
    "    x='date_reg', y='payments', hue='banner'\n",
    ")"
   ]
  },
  {
   "cell_type": "code",
   "execution_count": 204,
   "metadata": {},
   "outputs": [
    {
     "data": {
      "text/plain": [
       "<matplotlib.axes._subplots.AxesSubplot at 0x1a4488c2e8>"
      ]
     },
     "execution_count": 204,
     "metadata": {},
     "output_type": "execute_result"
    },
    {
     "data": {
      "image/png": "[encoded data removed]",
      "text/plain": [
       "<Figure size 1440x595.44 with 1 Axes>"
      ]
     },
     "metadata": {},
     "output_type": "display_data"
    }
   ],
   "source": [
    "sns.lineplot(\n",
    "    data=by_ban_day[by_ban_day['banner'] != 'Banner 4'], \n",
    "    x='date_reg', y='id_user', hue='banner'\n",
    ")"
   ]
  },
  {
   "cell_type": "code",
   "execution_count": 205,
   "metadata": {},
   "outputs": [
    {
     "data": {
      "text/plain": [
       "<matplotlib.axes._subplots.AxesSubplot at 0x1a3f5e3a58>"
      ]
     },
     "execution_count": 205,
     "metadata": {},
     "output_type": "execute_result"
    },
    {
     "data": {
      "image/png": "[encoded data removed]",
      "text/plain": [
       "<Figure size 1440x595.44 with 1 Axes>"
      ]
     },
     "metadata": {},
     "output_type": "display_data"
    }
   ],
   "source": [
    "sns.lineplot(\n",
    "    data=by_ban_day[by_ban_day['banner'] != 'Banner 4'], \n",
    "    x='date_reg', y='payments', hue='banner'\n",
    ")"
   ]
  },
  {
   "cell_type": "code",
   "execution_count": 270,
   "metadata": {},
   "outputs": [
    {
     "data": {
      "text/plain": [
       "<matplotlib.axes._subplots.AxesSubplot at 0x1a438d0198>"
      ]
     },
     "execution_count": 270,
     "metadata": {},
     "output_type": "execute_result"
    },
    {
     "data": {
      "image/png": "[encoded data removed]",
      "text/plain": [
       "<Figure size 1440x595.44 with 1 Axes>"
      ]
     },
     "metadata": {},
     "output_type": "display_data"
    }
   ],
   "source": [
    "sns.lineplot(\n",
    "    data=by_ban_day, \n",
    "    x='date_reg', y='p_to_reg', hue='banner'\n",
    ")"
   ]
  },
  {
   "cell_type": "markdown",
   "metadata": {},
   "source": [
    "### Крайне бесполезные графики, за исключением последнего. Видно, что по краям промежутка отсутствуют загибания, что может частично подтверждать то, что данные по когортам не обрезанные т.е. оплаты включены за фиксированное количество дней пользователя на продукте, например 30 дней. Рассматривать тенденции когорт по 2,3,5 баннеру с большей детализацией - лишено какого-либо смысла. Попробуем покрутить 4й баннер, где данных больше"
   ]
  },
  {
   "cell_type": "code",
   "execution_count": 208,
   "metadata": {},
   "outputs": [],
   "source": [
    "banner_4 = data[data['banner'] == 'Banner 4'].groupby(['gender', pd.Grouper(key='date_reg', freq='D')])\\\n",
    "    .agg({'id_user': 'count', 'payments': 'sum'})\\\n",
    "    .reset_index()"
   ]
  },
  {
   "cell_type": "code",
   "execution_count": 210,
   "metadata": {},
   "outputs": [
    {
     "data": {
      "text/plain": [
       "<matplotlib.axes._subplots.AxesSubplot at 0x1a44359630>"
      ]
     },
     "execution_count": 210,
     "metadata": {},
     "output_type": "execute_result"
    },
    {
     "data": {
      "image/png": "[encoded data removed]",
      "text/plain": [
       "<Figure size 1440x595.44 with 1 Axes>"
      ]
     },
     "metadata": {},
     "output_type": "display_data"
    }
   ],
   "source": [
    "sns.lineplot(\n",
    "    data=banner_4, \n",
    "    x='date_reg', y='id_user', hue='gender'\n",
    ")"
   ]
  },
  {
   "cell_type": "markdown",
   "metadata": {},
   "source": [
    "### Видим пик приходящий на 2018-11-17 и 2018-11-19, что может быть обусловлено сезонным фактором, например баннер заточен под 14е февраля. Также видно, что в данных есть пропуски посмотрим на них"
   ]
  },
  {
   "cell_type": "code",
   "execution_count": 218,
   "metadata": {},
   "outputs": [],
   "source": [
    "import datetime as dt"
   ]
  },
  {
   "cell_type": "code",
   "execution_count": 226,
   "metadata": {},
   "outputs": [
    {
     "data": {
      "text/plain": [
       "(Timestamp('2018-10-29 00:01:41'), Timestamp('2018-12-02 23:55:27'))"
      ]
     },
     "execution_count": 226,
     "metadata": {},
     "output_type": "execute_result"
    }
   ],
   "source": [
    "data['date_reg'].min(), data['date_reg'].max()"
   ]
  },
  {
   "cell_type": "code",
   "execution_count": 229,
   "metadata": {},
   "outputs": [],
   "source": [
    "date_test = pd.DataFrame(\n",
    "    {'date': pd.date_range(start=data['date_reg'].min(), end=data['date_reg'].max(), freq='d')}\n",
    ")"
   ]
  },
  {
   "cell_type": "code",
   "execution_count": 230,
   "metadata": {},
   "outputs": [],
   "source": [
    "date_test['date'] = date_test['date'].dt.date"
   ]
  },
  {
   "cell_type": "code",
   "execution_count": 232,
   "metadata": {},
   "outputs": [],
   "source": [
    "banner_4['date_reg'] = banner_4['date_reg'].dt.date"
   ]
  },
  {
   "cell_type": "code",
   "execution_count": 234,
   "metadata": {},
   "outputs": [],
   "source": [
    "date_test = pd.merge(\n",
    "    date_test, \n",
    "    banner_4[banner_4['gender'] == 'ж'],\n",
    "    how='left',\n",
    "    left_on='date',\n",
    "    right_on='date_reg'\n",
    ")"
   ]
  },
  {
   "cell_type": "code",
   "execution_count": 235,
   "metadata": {},
   "outputs": [
    {
     "data": {
      "text/html": [
       "<div>\n",
       "<style scoped>\n",
       "    .dataframe tbody tr th:only-of-type {\n",
       "        vertical-align: middle;\n",
       "    }\n",
       "\n",
       "    .dataframe tbody tr th {\n",
       "        vertical-align: top;\n",
       "    }\n",
       "\n",
       "    .dataframe thead th {\n",
       "        text-align: right;\n",
       "    }\n",
       "</style>\n",
       "<table border=\"1\" class=\"dataframe\">\n",
       "  <thead>\n",
       "    <tr style=\"text-align: right;\">\n",
       "      <th></th>\n",
       "      <th>date</th>\n",
       "      <th>gender</th>\n",
       "      <th>date_reg</th>\n",
       "      <th>id_user</th>\n",
       "      <th>payments</th>\n",
       "    </tr>\n",
       "  </thead>\n",
       "  <tbody>\n",
       "    <tr>\n",
       "      <td>0</td>\n",
       "      <td>2018-10-29</td>\n",
       "      <td>ж</td>\n",
       "      <td>2018-10-29</td>\n",
       "      <td>413.0</td>\n",
       "      <td>1102.0</td>\n",
       "    </tr>\n",
       "    <tr>\n",
       "      <td>1</td>\n",
       "      <td>2018-10-30</td>\n",
       "      <td>NaN</td>\n",
       "      <td>NaN</td>\n",
       "      <td>NaN</td>\n",
       "      <td>NaN</td>\n",
       "    </tr>\n",
       "    <tr>\n",
       "      <td>2</td>\n",
       "      <td>2018-10-31</td>\n",
       "      <td>ж</td>\n",
       "      <td>2018-10-31</td>\n",
       "      <td>372.0</td>\n",
       "      <td>712.0</td>\n",
       "    </tr>\n",
       "    <tr>\n",
       "      <td>3</td>\n",
       "      <td>2018-11-01</td>\n",
       "      <td>NaN</td>\n",
       "      <td>NaN</td>\n",
       "      <td>NaN</td>\n",
       "      <td>NaN</td>\n",
       "    </tr>\n",
       "    <tr>\n",
       "      <td>4</td>\n",
       "      <td>2018-11-02</td>\n",
       "      <td>ж</td>\n",
       "      <td>2018-11-02</td>\n",
       "      <td>279.0</td>\n",
       "      <td>566.0</td>\n",
       "    </tr>\n",
       "    <tr>\n",
       "      <td>5</td>\n",
       "      <td>2018-11-03</td>\n",
       "      <td>ж</td>\n",
       "      <td>2018-11-03</td>\n",
       "      <td>261.0</td>\n",
       "      <td>484.0</td>\n",
       "    </tr>\n",
       "    <tr>\n",
       "      <td>6</td>\n",
       "      <td>2018-11-04</td>\n",
       "      <td>NaN</td>\n",
       "      <td>NaN</td>\n",
       "      <td>NaN</td>\n",
       "      <td>NaN</td>\n",
       "    </tr>\n",
       "    <tr>\n",
       "      <td>7</td>\n",
       "      <td>2018-11-05</td>\n",
       "      <td>ж</td>\n",
       "      <td>2018-11-05</td>\n",
       "      <td>227.0</td>\n",
       "      <td>297.0</td>\n",
       "    </tr>\n",
       "    <tr>\n",
       "      <td>8</td>\n",
       "      <td>2018-11-06</td>\n",
       "      <td>NaN</td>\n",
       "      <td>NaN</td>\n",
       "      <td>NaN</td>\n",
       "      <td>NaN</td>\n",
       "    </tr>\n",
       "    <tr>\n",
       "      <td>9</td>\n",
       "      <td>2018-11-07</td>\n",
       "      <td>ж</td>\n",
       "      <td>2018-11-07</td>\n",
       "      <td>315.0</td>\n",
       "      <td>564.0</td>\n",
       "    </tr>\n",
       "    <tr>\n",
       "      <td>10</td>\n",
       "      <td>2018-11-08</td>\n",
       "      <td>NaN</td>\n",
       "      <td>NaN</td>\n",
       "      <td>NaN</td>\n",
       "      <td>NaN</td>\n",
       "    </tr>\n",
       "    <tr>\n",
       "      <td>11</td>\n",
       "      <td>2018-11-09</td>\n",
       "      <td>ж</td>\n",
       "      <td>2018-11-09</td>\n",
       "      <td>364.0</td>\n",
       "      <td>958.0</td>\n",
       "    </tr>\n",
       "    <tr>\n",
       "      <td>12</td>\n",
       "      <td>2018-11-10</td>\n",
       "      <td>ж</td>\n",
       "      <td>2018-11-10</td>\n",
       "      <td>371.0</td>\n",
       "      <td>723.0</td>\n",
       "    </tr>\n",
       "    <tr>\n",
       "      <td>13</td>\n",
       "      <td>2018-11-11</td>\n",
       "      <td>NaN</td>\n",
       "      <td>NaN</td>\n",
       "      <td>NaN</td>\n",
       "      <td>NaN</td>\n",
       "    </tr>\n",
       "    <tr>\n",
       "      <td>14</td>\n",
       "      <td>2018-11-12</td>\n",
       "      <td>ж</td>\n",
       "      <td>2018-11-12</td>\n",
       "      <td>359.0</td>\n",
       "      <td>768.0</td>\n",
       "    </tr>\n",
       "    <tr>\n",
       "      <td>15</td>\n",
       "      <td>2018-11-13</td>\n",
       "      <td>NaN</td>\n",
       "      <td>NaN</td>\n",
       "      <td>NaN</td>\n",
       "      <td>NaN</td>\n",
       "    </tr>\n",
       "    <tr>\n",
       "      <td>16</td>\n",
       "      <td>2018-11-14</td>\n",
       "      <td>ж</td>\n",
       "      <td>2018-11-14</td>\n",
       "      <td>302.0</td>\n",
       "      <td>714.0</td>\n",
       "    </tr>\n",
       "    <tr>\n",
       "      <td>17</td>\n",
       "      <td>2018-11-15</td>\n",
       "      <td>NaN</td>\n",
       "      <td>NaN</td>\n",
       "      <td>NaN</td>\n",
       "      <td>NaN</td>\n",
       "    </tr>\n",
       "    <tr>\n",
       "      <td>18</td>\n",
       "      <td>2018-11-16</td>\n",
       "      <td>ж</td>\n",
       "      <td>2018-11-16</td>\n",
       "      <td>408.0</td>\n",
       "      <td>1031.0</td>\n",
       "    </tr>\n",
       "    <tr>\n",
       "      <td>19</td>\n",
       "      <td>2018-11-17</td>\n",
       "      <td>ж</td>\n",
       "      <td>2018-11-17</td>\n",
       "      <td>1459.0</td>\n",
       "      <td>3816.0</td>\n",
       "    </tr>\n",
       "    <tr>\n",
       "      <td>20</td>\n",
       "      <td>2018-11-18</td>\n",
       "      <td>NaN</td>\n",
       "      <td>NaN</td>\n",
       "      <td>NaN</td>\n",
       "      <td>NaN</td>\n",
       "    </tr>\n",
       "    <tr>\n",
       "      <td>21</td>\n",
       "      <td>2018-11-19</td>\n",
       "      <td>ж</td>\n",
       "      <td>2018-11-19</td>\n",
       "      <td>1459.0</td>\n",
       "      <td>2651.0</td>\n",
       "    </tr>\n",
       "    <tr>\n",
       "      <td>22</td>\n",
       "      <td>2018-11-20</td>\n",
       "      <td>NaN</td>\n",
       "      <td>NaN</td>\n",
       "      <td>NaN</td>\n",
       "      <td>NaN</td>\n",
       "    </tr>\n",
       "    <tr>\n",
       "      <td>23</td>\n",
       "      <td>2018-11-21</td>\n",
       "      <td>ж</td>\n",
       "      <td>2018-11-21</td>\n",
       "      <td>471.0</td>\n",
       "      <td>885.0</td>\n",
       "    </tr>\n",
       "    <tr>\n",
       "      <td>24</td>\n",
       "      <td>2018-11-22</td>\n",
       "      <td>NaN</td>\n",
       "      <td>NaN</td>\n",
       "      <td>NaN</td>\n",
       "      <td>NaN</td>\n",
       "    </tr>\n",
       "    <tr>\n",
       "      <td>25</td>\n",
       "      <td>2018-11-23</td>\n",
       "      <td>ж</td>\n",
       "      <td>2018-11-23</td>\n",
       "      <td>421.0</td>\n",
       "      <td>630.0</td>\n",
       "    </tr>\n",
       "    <tr>\n",
       "      <td>26</td>\n",
       "      <td>2018-11-24</td>\n",
       "      <td>ж</td>\n",
       "      <td>2018-11-24</td>\n",
       "      <td>304.0</td>\n",
       "      <td>378.0</td>\n",
       "    </tr>\n",
       "    <tr>\n",
       "      <td>27</td>\n",
       "      <td>2018-11-25</td>\n",
       "      <td>NaN</td>\n",
       "      <td>NaN</td>\n",
       "      <td>NaN</td>\n",
       "      <td>NaN</td>\n",
       "    </tr>\n",
       "    <tr>\n",
       "      <td>28</td>\n",
       "      <td>2018-11-26</td>\n",
       "      <td>ж</td>\n",
       "      <td>2018-11-26</td>\n",
       "      <td>656.0</td>\n",
       "      <td>1253.0</td>\n",
       "    </tr>\n",
       "    <tr>\n",
       "      <td>29</td>\n",
       "      <td>2018-11-27</td>\n",
       "      <td>NaN</td>\n",
       "      <td>NaN</td>\n",
       "      <td>NaN</td>\n",
       "      <td>NaN</td>\n",
       "    </tr>\n",
       "    <tr>\n",
       "      <td>30</td>\n",
       "      <td>2018-11-28</td>\n",
       "      <td>ж</td>\n",
       "      <td>2018-11-28</td>\n",
       "      <td>998.0</td>\n",
       "      <td>2033.0</td>\n",
       "    </tr>\n",
       "    <tr>\n",
       "      <td>31</td>\n",
       "      <td>2018-11-29</td>\n",
       "      <td>NaN</td>\n",
       "      <td>NaN</td>\n",
       "      <td>NaN</td>\n",
       "      <td>NaN</td>\n",
       "    </tr>\n",
       "    <tr>\n",
       "      <td>32</td>\n",
       "      <td>2018-11-30</td>\n",
       "      <td>ж</td>\n",
       "      <td>2018-11-30</td>\n",
       "      <td>1179.0</td>\n",
       "      <td>2132.0</td>\n",
       "    </tr>\n",
       "    <tr>\n",
       "      <td>33</td>\n",
       "      <td>2018-12-01</td>\n",
       "      <td>ж</td>\n",
       "      <td>2018-12-01</td>\n",
       "      <td>1383.0</td>\n",
       "      <td>2359.0</td>\n",
       "    </tr>\n",
       "    <tr>\n",
       "      <td>34</td>\n",
       "      <td>2018-12-02</td>\n",
       "      <td>NaN</td>\n",
       "      <td>NaN</td>\n",
       "      <td>NaN</td>\n",
       "      <td>NaN</td>\n",
       "    </tr>\n",
       "  </tbody>\n",
       "</table>\n",
       "</div>"
      ],
      "text/plain": [
       "          date gender    date_reg  id_user  payments\n",
       "0   2018-10-29      ж  2018-10-29    413.0    1102.0\n",
       "1   2018-10-30    NaN         NaN      NaN       NaN\n",
       "2   2018-10-31      ж  2018-10-31    372.0     712.0\n",
       "3   2018-11-01    NaN         NaN      NaN       NaN\n",
       "4   2018-11-02      ж  2018-11-02    279.0     566.0\n",
       "5   2018-11-03      ж  2018-11-03    261.0     484.0\n",
       "6   2018-11-04    NaN         NaN      NaN       NaN\n",
       "7   2018-11-05      ж  2018-11-05    227.0     297.0\n",
       "8   2018-11-06    NaN         NaN      NaN       NaN\n",
       "9   2018-11-07      ж  2018-11-07    315.0     564.0\n",
       "10  2018-11-08    NaN         NaN      NaN       NaN\n",
       "11  2018-11-09      ж  2018-11-09    364.0     958.0\n",
       "12  2018-11-10      ж  2018-11-10    371.0     723.0\n",
       "13  2018-11-11    NaN         NaN      NaN       NaN\n",
       "14  2018-11-12      ж  2018-11-12    359.0     768.0\n",
       "15  2018-11-13    NaN         NaN      NaN       NaN\n",
       "16  2018-11-14      ж  2018-11-14    302.0     714.0\n",
       "17  2018-11-15    NaN         NaN      NaN       NaN\n",
       "18  2018-11-16      ж  2018-11-16    408.0    1031.0\n",
       "19  2018-11-17      ж  2018-11-17   1459.0    3816.0\n",
       "20  2018-11-18    NaN         NaN      NaN       NaN\n",
       "21  2018-11-19      ж  2018-11-19   1459.0    2651.0\n",
       "22  2018-11-20    NaN         NaN      NaN       NaN\n",
       "23  2018-11-21      ж  2018-11-21    471.0     885.0\n",
       "24  2018-11-22    NaN         NaN      NaN       NaN\n",
       "25  2018-11-23      ж  2018-11-23    421.0     630.0\n",
       "26  2018-11-24      ж  2018-11-24    304.0     378.0\n",
       "27  2018-11-25    NaN         NaN      NaN       NaN\n",
       "28  2018-11-26      ж  2018-11-26    656.0    1253.0\n",
       "29  2018-11-27    NaN         NaN      NaN       NaN\n",
       "30  2018-11-28      ж  2018-11-28    998.0    2033.0\n",
       "31  2018-11-29    NaN         NaN      NaN       NaN\n",
       "32  2018-11-30      ж  2018-11-30   1179.0    2132.0\n",
       "33  2018-12-01      ж  2018-12-01   1383.0    2359.0\n",
       "34  2018-12-02    NaN         NaN      NaN       NaN"
      ]
     },
     "execution_count": 235,
     "metadata": {},
     "output_type": "execute_result"
    }
   ],
   "source": [
    "date_test"
   ]
  },
  {
   "cell_type": "code",
   "execution_count": 243,
   "metadata": {},
   "outputs": [
    {
     "data": {
      "text/plain": [
       "<matplotlib.axes._subplots.AxesSubplot at 0x1a429a18d0>"
      ]
     },
     "execution_count": 243,
     "metadata": {},
     "output_type": "execute_result"
    },
    {
     "data": {
      "image/png": "[encoded data removed]",
      "text/plain": [
       "<Figure size 1440x595.44 with 1 Axes>"
      ]
     },
     "metadata": {},
     "output_type": "display_data"
    }
   ],
   "source": [
    "sns.lineplot(\n",
    "    data=banner_4, \n",
    "    x='date_reg', y='payments', hue='gender'\n",
    ")"
   ]
  },
  {
   "cell_type": "markdown",
   "metadata": {},
   "source": [
    "### График оплат по когортам нам ничего нового не показывает"
   ]
  },
  {
   "cell_type": "markdown",
   "metadata": {},
   "source": [
    "### Трафик по баннеру идет чуть ли не через день. Вопрос либо к качеству данных, либо к трафик-менеджеру, который через день отключает кампанию, возможно для оптимизации"
   ]
  },
  {
   "cell_type": "markdown",
   "metadata": {},
   "source": [
    "### Расмотрим характер плательщиков по баннерам"
   ]
  },
  {
   "cell_type": "code",
   "execution_count": 236,
   "metadata": {},
   "outputs": [
    {
     "data": {
      "text/html": [
       "<div>\n",
       "<style scoped>\n",
       "    .dataframe tbody tr th:only-of-type {\n",
       "        vertical-align: middle;\n",
       "    }\n",
       "\n",
       "    .dataframe tbody tr th {\n",
       "        vertical-align: top;\n",
       "    }\n",
       "\n",
       "    .dataframe thead th {\n",
       "        text-align: right;\n",
       "    }\n",
       "</style>\n",
       "<table border=\"1\" class=\"dataframe\">\n",
       "  <thead>\n",
       "    <tr style=\"text-align: right;\">\n",
       "      <th></th>\n",
       "      <th>id_user</th>\n",
       "      <th>banner</th>\n",
       "      <th>date_reg</th>\n",
       "      <th>payments</th>\n",
       "      <th>gender</th>\n",
       "    </tr>\n",
       "  </thead>\n",
       "  <tbody>\n",
       "    <tr>\n",
       "      <td>0</td>\n",
       "      <td>2</td>\n",
       "      <td>Banner 4</td>\n",
       "      <td>2018-10-29 00:01:41</td>\n",
       "      <td>3</td>\n",
       "      <td>ж</td>\n",
       "    </tr>\n",
       "    <tr>\n",
       "      <td>1</td>\n",
       "      <td>3</td>\n",
       "      <td>Banner 4</td>\n",
       "      <td>2018-10-29 00:01:42</td>\n",
       "      <td>0</td>\n",
       "      <td>ж</td>\n",
       "    </tr>\n",
       "    <tr>\n",
       "      <td>2</td>\n",
       "      <td>4</td>\n",
       "      <td>Banner 4</td>\n",
       "      <td>2018-10-29 00:02:13</td>\n",
       "      <td>1</td>\n",
       "      <td>ж</td>\n",
       "    </tr>\n",
       "    <tr>\n",
       "      <td>3</td>\n",
       "      <td>6</td>\n",
       "      <td>Banner 4</td>\n",
       "      <td>2018-10-29 00:03:12</td>\n",
       "      <td>9</td>\n",
       "      <td>ж</td>\n",
       "    </tr>\n",
       "    <tr>\n",
       "      <td>4</td>\n",
       "      <td>9</td>\n",
       "      <td>Banner 4</td>\n",
       "      <td>2018-10-29 00:12:30</td>\n",
       "      <td>1</td>\n",
       "      <td>ж</td>\n",
       "    </tr>\n",
       "  </tbody>\n",
       "</table>\n",
       "</div>"
      ],
      "text/plain": [
       "   id_user    banner            date_reg  payments gender\n",
       "0        2  Banner 4 2018-10-29 00:01:41         3      ж\n",
       "1        3  Banner 4 2018-10-29 00:01:42         0      ж\n",
       "2        4  Banner 4 2018-10-29 00:02:13         1      ж\n",
       "3        6  Banner 4 2018-10-29 00:03:12         9      ж\n",
       "4        9  Banner 4 2018-10-29 00:12:30         1      ж"
      ]
     },
     "execution_count": 236,
     "metadata": {},
     "output_type": "execute_result"
    }
   ],
   "source": [
    "data.head()"
   ]
  },
  {
   "cell_type": "code",
   "execution_count": 241,
   "metadata": {},
   "outputs": [
    {
     "data": {
      "text/plain": [
       "<matplotlib.axes._subplots.AxesSubplot at 0x1a42b1cb00>"
      ]
     },
     "execution_count": 241,
     "metadata": {},
     "output_type": "execute_result"
    },
    {
     "data": {
      "image/png": "[encoded data removed]",
      "text/plain": [
       "<Figure size 1440x595.44 with 1 Axes>"
      ]
     },
     "metadata": {},
     "output_type": "display_data"
    }
   ],
   "source": [
    "sns.scatterplot(\n",
    "    data=data[data['payments'] >= 1]\\\n",
    "        .groupby(['banner', 'payments'], as_index=False)\\\n",
    "        .agg({'id_user': 'count'})\\\n",
    "        .rename(columns={'id_user': 'n_payers'}),\n",
    "    x='payments',\n",
    "    y='n_payers',\n",
    "    hue='banner'\n",
    ")"
   ]
  },
  {
   "cell_type": "markdown",
   "metadata": {},
   "source": [
    "#### По 4му и 3му баннеру залетело несколько хайролеров. Взглянем на них под \"Лупой\" "
   ]
  },
  {
   "cell_type": "code",
   "execution_count": 275,
   "metadata": {},
   "outputs": [],
   "source": [
    "p_per_reg = pd.merge(\n",
    "    data.groupby(['banner'], as_index=False)\\\n",
    "        .agg({'id_user': 'count'})\\\n",
    "        .rename(columns={'id_user': 'n_regs'}),\n",
    "    data[data['payments'] >= 1]\\\n",
    "        .groupby(['banner', 'payments'], as_index=False)\\\n",
    "        .agg({'id_user': 'count'})\\\n",
    "        .rename(columns={'id_user': 'n_payers'}),\n",
    "    how='right',\n",
    "    on='banner'\n",
    ")"
   ]
  },
  {
   "cell_type": "code",
   "execution_count": 284,
   "metadata": {},
   "outputs": [],
   "source": [
    "import math as m"
   ]
  },
  {
   "cell_type": "code",
   "execution_count": 300,
   "metadata": {},
   "outputs": [],
   "source": [
    "p_per_reg['attitude'] = p_per_reg['n_payers']/p_per_reg['n_regs']\n",
    "p_per_reg['attitude_log'] = p_per_reg['attitude'].apply(m.log)\n",
    "p_per_reg['log_payments'] = p_per_reg['payments'].apply(m.log)\n",
    "p_per_reg['log_n_payers'] = p_per_reg['n_payers'].apply(m.log)"
   ]
  },
  {
   "cell_type": "code",
   "execution_count": 304,
   "metadata": {},
   "outputs": [
    {
     "data": {
      "text/plain": [
       "<matplotlib.axes._subplots.AxesSubplot at 0x1a45782160>"
      ]
     },
     "execution_count": 304,
     "metadata": {},
     "output_type": "execute_result"
    },
    {
     "data": {
      "image/png": "[encoded data removed]",
      "text/plain": [
       "<Figure size 1440x595.44 with 1 Axes>"
      ]
     },
     "metadata": {},
     "output_type": "display_data"
    }
   ],
   "source": [
    "sns.scatterplot(\n",
    "    data=p_per_reg,\n",
    "    y='attitude_log',\n",
    "    x='log_payments',\n",
    "    size='log_n_payers',\n",
    "    hue='banner',\n",
    "    alpha=0.5\n",
    ")"
   ]
  },
  {
   "cell_type": "markdown",
   "metadata": {},
   "source": [
    "### Очень хорошо видно скопление много-платящих пользователей по 4му баннеру, однако распределение \"идет выше\" всех остальных на участке с меньшими значениями количества оплат, что создает эффект некой рулетки. Об остальных баннерах мало, что интересного нам дал график выше."
   ]
  },
  {
   "cell_type": "code",
   "execution_count": 247,
   "metadata": {},
   "outputs": [
    {
     "data": {
      "text/html": [
       "<div>\n",
       "<style scoped>\n",
       "    .dataframe tbody tr th:only-of-type {\n",
       "        vertical-align: middle;\n",
       "    }\n",
       "\n",
       "    .dataframe tbody tr th {\n",
       "        vertical-align: top;\n",
       "    }\n",
       "\n",
       "    .dataframe thead th {\n",
       "        text-align: right;\n",
       "    }\n",
       "</style>\n",
       "<table border=\"1\" class=\"dataframe\">\n",
       "  <thead>\n",
       "    <tr style=\"text-align: right;\">\n",
       "      <th></th>\n",
       "      <th>id_user</th>\n",
       "      <th>banner</th>\n",
       "      <th>date_reg</th>\n",
       "      <th>payments</th>\n",
       "      <th>gender</th>\n",
       "    </tr>\n",
       "  </thead>\n",
       "  <tbody>\n",
       "    <tr>\n",
       "      <td>1080</td>\n",
       "      <td>2424</td>\n",
       "      <td>Banner 4</td>\n",
       "      <td>2018-10-29 13:59:04</td>\n",
       "      <td>412</td>\n",
       "      <td>ж</td>\n",
       "    </tr>\n",
       "    <tr>\n",
       "      <td>2605</td>\n",
       "      <td>8688</td>\n",
       "      <td>Banner 4</td>\n",
       "      <td>2018-10-31 04:17:39</td>\n",
       "      <td>360</td>\n",
       "      <td>м</td>\n",
       "    </tr>\n",
       "    <tr>\n",
       "      <td>7468</td>\n",
       "      <td>25480</td>\n",
       "      <td>Banner 4</td>\n",
       "      <td>2018-11-05 07:06:57</td>\n",
       "      <td>257</td>\n",
       "      <td>м</td>\n",
       "    </tr>\n",
       "    <tr>\n",
       "      <td>7589</td>\n",
       "      <td>25908</td>\n",
       "      <td>Banner 4</td>\n",
       "      <td>2018-11-05 09:21:09</td>\n",
       "      <td>237</td>\n",
       "      <td>м</td>\n",
       "    </tr>\n",
       "    <tr>\n",
       "      <td>8900</td>\n",
       "      <td>32883</td>\n",
       "      <td>Banner 4</td>\n",
       "      <td>2018-11-07 10:30:54</td>\n",
       "      <td>228</td>\n",
       "      <td>м</td>\n",
       "    </tr>\n",
       "    <tr>\n",
       "      <td>11639</td>\n",
       "      <td>43161</td>\n",
       "      <td>Banner 4</td>\n",
       "      <td>2018-11-09 21:50:05</td>\n",
       "      <td>221</td>\n",
       "      <td>ж</td>\n",
       "    </tr>\n",
       "    <tr>\n",
       "      <td>14817</td>\n",
       "      <td>50507</td>\n",
       "      <td>Banner 3</td>\n",
       "      <td>2018-11-12 19:00:44</td>\n",
       "      <td>220</td>\n",
       "      <td>м</td>\n",
       "    </tr>\n",
       "    <tr>\n",
       "      <td>17876</td>\n",
       "      <td>65142</td>\n",
       "      <td>Banner 4</td>\n",
       "      <td>2018-11-16 17:01:06</td>\n",
       "      <td>445</td>\n",
       "      <td>м</td>\n",
       "    </tr>\n",
       "    <tr>\n",
       "      <td>18189</td>\n",
       "      <td>66124</td>\n",
       "      <td>Banner 3</td>\n",
       "      <td>2018-11-16 20:57:32</td>\n",
       "      <td>438</td>\n",
       "      <td>м</td>\n",
       "    </tr>\n",
       "    <tr>\n",
       "      <td>18483</td>\n",
       "      <td>66733</td>\n",
       "      <td>Banner 4</td>\n",
       "      <td>2018-11-17 05:59:34</td>\n",
       "      <td>249</td>\n",
       "      <td>ж</td>\n",
       "    </tr>\n",
       "    <tr>\n",
       "      <td>18819</td>\n",
       "      <td>67207</td>\n",
       "      <td>Banner 4</td>\n",
       "      <td>2018-11-17 10:57:20</td>\n",
       "      <td>752</td>\n",
       "      <td>ж</td>\n",
       "    </tr>\n",
       "    <tr>\n",
       "      <td>20060</td>\n",
       "      <td>69469</td>\n",
       "      <td>Banner 3</td>\n",
       "      <td>2018-11-18 19:49:00</td>\n",
       "      <td>525</td>\n",
       "      <td>ж</td>\n",
       "    </tr>\n",
       "    <tr>\n",
       "      <td>21506</td>\n",
       "      <td>74011</td>\n",
       "      <td>Banner 3</td>\n",
       "      <td>2018-11-19 20:38:01</td>\n",
       "      <td>227</td>\n",
       "      <td>ж</td>\n",
       "    </tr>\n",
       "  </tbody>\n",
       "</table>\n",
       "</div>"
      ],
      "text/plain": [
       "       id_user    banner            date_reg  payments gender\n",
       "1080      2424  Banner 4 2018-10-29 13:59:04       412      ж\n",
       "2605      8688  Banner 4 2018-10-31 04:17:39       360      м\n",
       "7468     25480  Banner 4 2018-11-05 07:06:57       257      м\n",
       "7589     25908  Banner 4 2018-11-05 09:21:09       237      м\n",
       "8900     32883  Banner 4 2018-11-07 10:30:54       228      м\n",
       "11639    43161  Banner 4 2018-11-09 21:50:05       221      ж\n",
       "14817    50507  Banner 3 2018-11-12 19:00:44       220      м\n",
       "17876    65142  Banner 4 2018-11-16 17:01:06       445      м\n",
       "18189    66124  Banner 3 2018-11-16 20:57:32       438      м\n",
       "18483    66733  Banner 4 2018-11-17 05:59:34       249      ж\n",
       "18819    67207  Banner 4 2018-11-17 10:57:20       752      ж\n",
       "20060    69469  Banner 3 2018-11-18 19:49:00       525      ж\n",
       "21506    74011  Banner 3 2018-11-19 20:38:01       227      ж"
      ]
     },
     "execution_count": 247,
     "metadata": {},
     "output_type": "execute_result"
    }
   ],
   "source": [
    "data[data['payments'] >= 200]"
   ]
  },
  {
   "cell_type": "markdown",
   "metadata": {},
   "source": [
    "### Рассмотрим такуе метрику как конверсия в N-ю оплату "
   ]
  },
  {
   "cell_type": "code",
   "execution_count": 265,
   "metadata": {},
   "outputs": [],
   "source": [
    "conv_rate = pd.merge(\n",
    "    data.groupby(['banner', 'gender'], as_index=False).agg({'id_user': 'count'})\\\n",
    "        .rename(columns={'id_user': 'n_regs'}),\n",
    "    data[data['payments'] >= 10].groupby(['banner', 'gender'], as_index=False)\\\n",
    "        .agg({'id_user': 'count'})\\\n",
    "        .rename(columns={'id_user': 'n_payers'}),\n",
    "    how='left',\n",
    "    on=['banner', 'gender']\n",
    ")"
   ]
  },
  {
   "cell_type": "code",
   "execution_count": 266,
   "metadata": {},
   "outputs": [],
   "source": [
    "conv_rate['conv'] = conv_rate['n_payers']/conv_rate['n_regs']"
   ]
  },
  {
   "cell_type": "code",
   "execution_count": 257,
   "metadata": {},
   "outputs": [
    {
     "data": {
      "text/html": [
       "<div>\n",
       "<style scoped>\n",
       "    .dataframe tbody tr th:only-of-type {\n",
       "        vertical-align: middle;\n",
       "    }\n",
       "\n",
       "    .dataframe tbody tr th {\n",
       "        vertical-align: top;\n",
       "    }\n",
       "\n",
       "    .dataframe thead th {\n",
       "        text-align: right;\n",
       "    }\n",
       "</style>\n",
       "<table border=\"1\" class=\"dataframe\">\n",
       "  <thead>\n",
       "    <tr style=\"text-align: right;\">\n",
       "      <th></th>\n",
       "      <th>banner</th>\n",
       "      <th>gender</th>\n",
       "      <th>n_regs</th>\n",
       "      <th>n_payers</th>\n",
       "      <th>conv</th>\n",
       "    </tr>\n",
       "  </thead>\n",
       "  <tbody>\n",
       "    <tr>\n",
       "      <td>0</td>\n",
       "      <td>Banner 2</td>\n",
       "      <td>ж</td>\n",
       "      <td>413</td>\n",
       "      <td>100</td>\n",
       "      <td>0.242131</td>\n",
       "    </tr>\n",
       "    <tr>\n",
       "      <td>1</td>\n",
       "      <td>Banner 2</td>\n",
       "      <td>м</td>\n",
       "      <td>323</td>\n",
       "      <td>73</td>\n",
       "      <td>0.226006</td>\n",
       "    </tr>\n",
       "    <tr>\n",
       "      <td>2</td>\n",
       "      <td>Banner 3</td>\n",
       "      <td>ж</td>\n",
       "      <td>323</td>\n",
       "      <td>66</td>\n",
       "      <td>0.204334</td>\n",
       "    </tr>\n",
       "    <tr>\n",
       "      <td>3</td>\n",
       "      <td>Banner 3</td>\n",
       "      <td>м</td>\n",
       "      <td>407</td>\n",
       "      <td>97</td>\n",
       "      <td>0.238329</td>\n",
       "    </tr>\n",
       "    <tr>\n",
       "      <td>4</td>\n",
       "      <td>Banner 4</td>\n",
       "      <td>ж</td>\n",
       "      <td>12001</td>\n",
       "      <td>2621</td>\n",
       "      <td>0.218398</td>\n",
       "    </tr>\n",
       "    <tr>\n",
       "      <td>5</td>\n",
       "      <td>Banner 4</td>\n",
       "      <td>м</td>\n",
       "      <td>15886</td>\n",
       "      <td>3449</td>\n",
       "      <td>0.217109</td>\n",
       "    </tr>\n",
       "    <tr>\n",
       "      <td>6</td>\n",
       "      <td>Banner 5</td>\n",
       "      <td>ж</td>\n",
       "      <td>2163</td>\n",
       "      <td>329</td>\n",
       "      <td>0.152104</td>\n",
       "    </tr>\n",
       "    <tr>\n",
       "      <td>7</td>\n",
       "      <td>Banner 5</td>\n",
       "      <td>м</td>\n",
       "      <td>2445</td>\n",
       "      <td>297</td>\n",
       "      <td>0.121472</td>\n",
       "    </tr>\n",
       "  </tbody>\n",
       "</table>\n",
       "</div>"
      ],
      "text/plain": [
       "     banner gender  n_regs  n_payers      conv\n",
       "0  Banner 2      ж     413       100  0.242131\n",
       "1  Banner 2      м     323        73  0.226006\n",
       "2  Banner 3      ж     323        66  0.204334\n",
       "3  Banner 3      м     407        97  0.238329\n",
       "4  Banner 4      ж   12001      2621  0.218398\n",
       "5  Banner 4      м   15886      3449  0.217109\n",
       "6  Banner 5      ж    2163       329  0.152104\n",
       "7  Banner 5      м    2445       297  0.121472"
      ]
     },
     "execution_count": 257,
     "metadata": {},
     "output_type": "execute_result"
    }
   ],
   "source": [
    "conv_rate\n",
    "# Конверсия во 2+ оплат"
   ]
  },
  {
   "cell_type": "code",
   "execution_count": 260,
   "metadata": {},
   "outputs": [
    {
     "data": {
      "text/html": [
       "<div>\n",
       "<style scoped>\n",
       "    .dataframe tbody tr th:only-of-type {\n",
       "        vertical-align: middle;\n",
       "    }\n",
       "\n",
       "    .dataframe tbody tr th {\n",
       "        vertical-align: top;\n",
       "    }\n",
       "\n",
       "    .dataframe thead th {\n",
       "        text-align: right;\n",
       "    }\n",
       "</style>\n",
       "<table border=\"1\" class=\"dataframe\">\n",
       "  <thead>\n",
       "    <tr style=\"text-align: right;\">\n",
       "      <th></th>\n",
       "      <th>banner</th>\n",
       "      <th>gender</th>\n",
       "      <th>n_regs</th>\n",
       "      <th>n_payers</th>\n",
       "      <th>conv</th>\n",
       "    </tr>\n",
       "  </thead>\n",
       "  <tbody>\n",
       "    <tr>\n",
       "      <td>0</td>\n",
       "      <td>Banner 2</td>\n",
       "      <td>ж</td>\n",
       "      <td>413</td>\n",
       "      <td>68</td>\n",
       "      <td>0.164649</td>\n",
       "    </tr>\n",
       "    <tr>\n",
       "      <td>1</td>\n",
       "      <td>Banner 2</td>\n",
       "      <td>м</td>\n",
       "      <td>323</td>\n",
       "      <td>58</td>\n",
       "      <td>0.179567</td>\n",
       "    </tr>\n",
       "    <tr>\n",
       "      <td>2</td>\n",
       "      <td>Banner 3</td>\n",
       "      <td>ж</td>\n",
       "      <td>323</td>\n",
       "      <td>45</td>\n",
       "      <td>0.139319</td>\n",
       "    </tr>\n",
       "    <tr>\n",
       "      <td>3</td>\n",
       "      <td>Banner 3</td>\n",
       "      <td>м</td>\n",
       "      <td>407</td>\n",
       "      <td>76</td>\n",
       "      <td>0.186732</td>\n",
       "    </tr>\n",
       "    <tr>\n",
       "      <td>4</td>\n",
       "      <td>Banner 4</td>\n",
       "      <td>ж</td>\n",
       "      <td>12001</td>\n",
       "      <td>1691</td>\n",
       "      <td>0.140905</td>\n",
       "    </tr>\n",
       "    <tr>\n",
       "      <td>5</td>\n",
       "      <td>Banner 4</td>\n",
       "      <td>м</td>\n",
       "      <td>15886</td>\n",
       "      <td>2289</td>\n",
       "      <td>0.144089</td>\n",
       "    </tr>\n",
       "    <tr>\n",
       "      <td>6</td>\n",
       "      <td>Banner 5</td>\n",
       "      <td>ж</td>\n",
       "      <td>2163</td>\n",
       "      <td>194</td>\n",
       "      <td>0.089690</td>\n",
       "    </tr>\n",
       "    <tr>\n",
       "      <td>7</td>\n",
       "      <td>Banner 5</td>\n",
       "      <td>м</td>\n",
       "      <td>2445</td>\n",
       "      <td>170</td>\n",
       "      <td>0.069530</td>\n",
       "    </tr>\n",
       "  </tbody>\n",
       "</table>\n",
       "</div>"
      ],
      "text/plain": [
       "     banner gender  n_regs  n_payers      conv\n",
       "0  Banner 2      ж     413        68  0.164649\n",
       "1  Banner 2      м     323        58  0.179567\n",
       "2  Banner 3      ж     323        45  0.139319\n",
       "3  Banner 3      м     407        76  0.186732\n",
       "4  Banner 4      ж   12001      1691  0.140905\n",
       "5  Banner 4      м   15886      2289  0.144089\n",
       "6  Banner 5      ж    2163       194  0.089690\n",
       "7  Banner 5      м    2445       170  0.069530"
      ]
     },
     "execution_count": 260,
     "metadata": {},
     "output_type": "execute_result"
    }
   ],
   "source": [
    "conv_rate\n",
    "# Конверсия в 3+ оплат"
   ]
  },
  {
   "cell_type": "code",
   "execution_count": 264,
   "metadata": {},
   "outputs": [
    {
     "data": {
      "text/html": [
       "<div>\n",
       "<style scoped>\n",
       "    .dataframe tbody tr th:only-of-type {\n",
       "        vertical-align: middle;\n",
       "    }\n",
       "\n",
       "    .dataframe tbody tr th {\n",
       "        vertical-align: top;\n",
       "    }\n",
       "\n",
       "    .dataframe thead th {\n",
       "        text-align: right;\n",
       "    }\n",
       "</style>\n",
       "<table border=\"1\" class=\"dataframe\">\n",
       "  <thead>\n",
       "    <tr style=\"text-align: right;\">\n",
       "      <th></th>\n",
       "      <th>banner</th>\n",
       "      <th>gender</th>\n",
       "      <th>n_regs</th>\n",
       "      <th>n_payers</th>\n",
       "      <th>conv</th>\n",
       "    </tr>\n",
       "  </thead>\n",
       "  <tbody>\n",
       "    <tr>\n",
       "      <td>0</td>\n",
       "      <td>Banner 2</td>\n",
       "      <td>ж</td>\n",
       "      <td>413</td>\n",
       "      <td>47</td>\n",
       "      <td>0.113801</td>\n",
       "    </tr>\n",
       "    <tr>\n",
       "      <td>1</td>\n",
       "      <td>Banner 2</td>\n",
       "      <td>м</td>\n",
       "      <td>323</td>\n",
       "      <td>36</td>\n",
       "      <td>0.111455</td>\n",
       "    </tr>\n",
       "    <tr>\n",
       "      <td>2</td>\n",
       "      <td>Banner 3</td>\n",
       "      <td>ж</td>\n",
       "      <td>323</td>\n",
       "      <td>28</td>\n",
       "      <td>0.086687</td>\n",
       "    </tr>\n",
       "    <tr>\n",
       "      <td>3</td>\n",
       "      <td>Banner 3</td>\n",
       "      <td>м</td>\n",
       "      <td>407</td>\n",
       "      <td>44</td>\n",
       "      <td>0.108108</td>\n",
       "    </tr>\n",
       "    <tr>\n",
       "      <td>4</td>\n",
       "      <td>Banner 4</td>\n",
       "      <td>ж</td>\n",
       "      <td>12001</td>\n",
       "      <td>993</td>\n",
       "      <td>0.082743</td>\n",
       "    </tr>\n",
       "    <tr>\n",
       "      <td>5</td>\n",
       "      <td>Banner 4</td>\n",
       "      <td>м</td>\n",
       "      <td>15886</td>\n",
       "      <td>1343</td>\n",
       "      <td>0.084540</td>\n",
       "    </tr>\n",
       "    <tr>\n",
       "      <td>6</td>\n",
       "      <td>Banner 5</td>\n",
       "      <td>ж</td>\n",
       "      <td>2163</td>\n",
       "      <td>100</td>\n",
       "      <td>0.046232</td>\n",
       "    </tr>\n",
       "    <tr>\n",
       "      <td>7</td>\n",
       "      <td>Banner 5</td>\n",
       "      <td>м</td>\n",
       "      <td>2445</td>\n",
       "      <td>76</td>\n",
       "      <td>0.031084</td>\n",
       "    </tr>\n",
       "  </tbody>\n",
       "</table>\n",
       "</div>"
      ],
      "text/plain": [
       "     banner gender  n_regs  n_payers      conv\n",
       "0  Banner 2      ж     413        47  0.113801\n",
       "1  Banner 2      м     323        36  0.111455\n",
       "2  Banner 3      ж     323        28  0.086687\n",
       "3  Banner 3      м     407        44  0.108108\n",
       "4  Banner 4      ж   12001       993  0.082743\n",
       "5  Banner 4      м   15886      1343  0.084540\n",
       "6  Banner 5      ж    2163       100  0.046232\n",
       "7  Banner 5      м    2445        76  0.031084"
      ]
     },
     "execution_count": 264,
     "metadata": {},
     "output_type": "execute_result"
    }
   ],
   "source": [
    "conv_rate\n",
    "# Конверсия в 5+ оплат"
   ]
  },
  {
   "cell_type": "code",
   "execution_count": 267,
   "metadata": {},
   "outputs": [
    {
     "data": {
      "text/html": [
       "<div>\n",
       "<style scoped>\n",
       "    .dataframe tbody tr th:only-of-type {\n",
       "        vertical-align: middle;\n",
       "    }\n",
       "\n",
       "    .dataframe tbody tr th {\n",
       "        vertical-align: top;\n",
       "    }\n",
       "\n",
       "    .dataframe thead th {\n",
       "        text-align: right;\n",
       "    }\n",
       "</style>\n",
       "<table border=\"1\" class=\"dataframe\">\n",
       "  <thead>\n",
       "    <tr style=\"text-align: right;\">\n",
       "      <th></th>\n",
       "      <th>banner</th>\n",
       "      <th>gender</th>\n",
       "      <th>n_regs</th>\n",
       "      <th>n_payers</th>\n",
       "      <th>conv</th>\n",
       "    </tr>\n",
       "  </thead>\n",
       "  <tbody>\n",
       "    <tr>\n",
       "      <td>0</td>\n",
       "      <td>Banner 2</td>\n",
       "      <td>ж</td>\n",
       "      <td>413</td>\n",
       "      <td>18</td>\n",
       "      <td>0.043584</td>\n",
       "    </tr>\n",
       "    <tr>\n",
       "      <td>1</td>\n",
       "      <td>Banner 2</td>\n",
       "      <td>м</td>\n",
       "      <td>323</td>\n",
       "      <td>22</td>\n",
       "      <td>0.068111</td>\n",
       "    </tr>\n",
       "    <tr>\n",
       "      <td>2</td>\n",
       "      <td>Banner 3</td>\n",
       "      <td>ж</td>\n",
       "      <td>323</td>\n",
       "      <td>15</td>\n",
       "      <td>0.046440</td>\n",
       "    </tr>\n",
       "    <tr>\n",
       "      <td>3</td>\n",
       "      <td>Banner 3</td>\n",
       "      <td>м</td>\n",
       "      <td>407</td>\n",
       "      <td>28</td>\n",
       "      <td>0.068796</td>\n",
       "    </tr>\n",
       "    <tr>\n",
       "      <td>4</td>\n",
       "      <td>Banner 4</td>\n",
       "      <td>ж</td>\n",
       "      <td>12001</td>\n",
       "      <td>449</td>\n",
       "      <td>0.037414</td>\n",
       "    </tr>\n",
       "    <tr>\n",
       "      <td>5</td>\n",
       "      <td>Banner 4</td>\n",
       "      <td>м</td>\n",
       "      <td>15886</td>\n",
       "      <td>672</td>\n",
       "      <td>0.042301</td>\n",
       "    </tr>\n",
       "    <tr>\n",
       "      <td>6</td>\n",
       "      <td>Banner 5</td>\n",
       "      <td>ж</td>\n",
       "      <td>2163</td>\n",
       "      <td>30</td>\n",
       "      <td>0.013870</td>\n",
       "    </tr>\n",
       "    <tr>\n",
       "      <td>7</td>\n",
       "      <td>Banner 5</td>\n",
       "      <td>м</td>\n",
       "      <td>2445</td>\n",
       "      <td>31</td>\n",
       "      <td>0.012679</td>\n",
       "    </tr>\n",
       "  </tbody>\n",
       "</table>\n",
       "</div>"
      ],
      "text/plain": [
       "     banner gender  n_regs  n_payers      conv\n",
       "0  Banner 2      ж     413        18  0.043584\n",
       "1  Banner 2      м     323        22  0.068111\n",
       "2  Banner 3      ж     323        15  0.046440\n",
       "3  Banner 3      м     407        28  0.068796\n",
       "4  Banner 4      ж   12001       449  0.037414\n",
       "5  Banner 4      м   15886       672  0.042301\n",
       "6  Banner 5      ж    2163        30  0.013870\n",
       "7  Banner 5      м    2445        31  0.012679"
      ]
     },
     "execution_count": 267,
     "metadata": {},
     "output_type": "execute_result"
    }
   ],
   "source": [
    "conv_rate\n",
    "# Конверсия в 10+ оплат"
   ]
  },
  {
   "cell_type": "markdown",
   "metadata": {},
   "source": [
    "### Итого: слабее всего себя проявляет 5й баннер по всем показателям, поскольку мы не знаем цену за регистрацию трудно сказать что-то о его целесообразности. Баннера 3-4 достаточно схожи с небольшим перекосом в сторону мужчин по конверсии в N-плату, также трафик более стабилен, что упрощает работу. Чего не скажешь о 4м баннере. Ситуация достаточно интересная, с одной стороны у нас больше чем у остальных хайролеров в трафике, с другой стороны большая доля платников с относительно низким количеством оплат, что создает сложности, но если научиться с трафиком правильно работать и не терять ценных хайролеров - может очень хорошо перформить."
   ]
  },
  {
   "cell_type": "code",
   "execution_count": null,
   "metadata": {},
   "outputs": [],
   "source": []
  },
  {
   "cell_type": "code",
   "execution_count": null,
   "metadata": {},
   "outputs": [],
   "source": []
  },
  {
   "cell_type": "code",
   "execution_count": null,
   "metadata": {},
   "outputs": [],
   "source": []
  },
  {
   "cell_type": "code",
   "execution_count": null,
   "metadata": {},
   "outputs": [],
   "source": []
  },
  {
   "cell_type": "code",
   "execution_count": null,
   "metadata": {},
   "outputs": [],
   "source": []
  },
  {
   "cell_type": "code",
   "execution_count": null,
   "metadata": {},
   "outputs": [],
   "source": []
  },
  {
   "cell_type": "code",
   "execution_count": null,
   "metadata": {},
   "outputs": [],
   "source": []
  },
  {
   "cell_type": "code",
   "execution_count": null,
   "metadata": {},
   "outputs": [],
   "source": []
  }
 ],
 "metadata": {
  "kernelspec": {
   "display_name": "Python 3",
   "language": "python",
   "name": "python3"
  },
  "language_info": {
   "codemirror_mode": {
    "name": "ipython",
    "version": 3
   },
   "file_extension": ".py",
   "mimetype": "text/x-python",
   "name": "python",
   "nbconvert_exporter": "python",
   "pygments_lexer": "ipython3",
   "version": "3.7.0"
  }
 },
 "nbformat": 4,
 "nbformat_minor": 2
}
